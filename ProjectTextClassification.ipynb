{
 "cells": [
  {
   "cell_type": "markdown",
   "metadata": {
    "colab_type": "text",
    "id": "Lbk6-2XAWTkf"
   },
   "source": [
    "# Project Text Classification"
   ]
  },
  {
   "cell_type": "code",
   "execution_count": null,
   "metadata": {
    "colab": {},
    "colab_type": "code",
    "id": "zHS_0TDabhng"
   },
   "outputs": [],
   "source": [
    "from google.colab import drive\n",
    "import os\n",
    "from nltk import tokenize\n",
    "import re"
   ]
  },
  {
   "cell_type": "code",
   "execution_count": 7,
   "metadata": {
    "colab": {
     "base_uri": "https://localhost:8080/",
     "height": 34
    },
    "colab_type": "code",
    "id": "HKX2WRqadCtN",
    "outputId": "2731ddd8-5fbf-473b-c102-53481d452328"
   },
   "outputs": [
    {
     "name": "stdout",
     "output_type": "stream",
     "text": [
      "Drive already mounted at /content/gdrive; to attempt to forcibly remount, call drive.mount(\"/content/gdrive\", force_remount=True).\n"
     ]
    }
   ],
   "source": [
    "drive.mount('/content/gdrive')"
   ]
  },
  {
   "cell_type": "markdown",
   "metadata": {
    "colab_type": "text",
    "id": "msJaHrtLQUuM"
   },
   "source": [
    "##### nltk requirements"
   ]
  },
  {
   "cell_type": "code",
   "execution_count": 8,
   "metadata": {
    "colab": {
     "base_uri": "https://localhost:8080/",
     "height": 68
    },
    "colab_type": "code",
    "id": "cX44Uev9QT4q",
    "outputId": "00bb2dd2-a6d7-49b6-8788-0c4312066bc3"
   },
   "outputs": [
    {
     "name": "stdout",
     "output_type": "stream",
     "text": [
      "[nltk_data] Downloading package punkt to /root/nltk_data...\n",
      "[nltk_data]   Package punkt is already up-to-date!\n"
     ]
    },
    {
     "data": {
      "text/plain": [
       "True"
      ]
     },
     "execution_count": 8,
     "metadata": {
      "tags": []
     },
     "output_type": "execute_result"
    }
   ],
   "source": [
    "import nltk\n",
    "nltk.download('punkt')"
   ]
  },
  {
   "cell_type": "code",
   "execution_count": 9,
   "metadata": {
    "colab": {
     "base_uri": "https://localhost:8080/",
     "height": 85
    },
    "colab_type": "code",
    "id": "gz8KyG-raT42",
    "outputId": "5edda5de-fda8-487b-c3cc-98ddfb33a828"
   },
   "outputs": [
    {
     "data": {
      "text/plain": [
       "['20_newsgroups',\n",
       " 'mini_newsgroups',\n",
       " 'dictionary_docs (1).json',\n",
       " 'Clean_dict_docs.json']"
      ]
     },
     "execution_count": 9,
     "metadata": {
      "tags": []
     },
     "output_type": "execute_result"
    }
   ],
   "source": [
    "path = '/content/gdrive/My Drive/Text_classify'\n",
    "os.listdir(path)"
   ]
  },
  {
   "cell_type": "markdown",
   "metadata": {
    "colab_type": "text",
    "id": "-943MLFOJRIa"
   },
   "source": [
    "### Our Training documents are in 20_newsgroups and testing data is in mini_newsgroups"
   ]
  },
  {
   "cell_type": "code",
   "execution_count": 10,
   "metadata": {
    "colab": {
     "base_uri": "https://localhost:8080/",
     "height": 357
    },
    "colab_type": "code",
    "id": "h4UyyGk_JbSi",
    "outputId": "015d58dd-45b8-4d6c-f577-df1375d37db9"
   },
   "outputs": [
    {
     "data": {
      "text/plain": [
       "['sci.med',\n",
       " 'sci.crypt',\n",
       " 'rec.sport.hockey',\n",
       " 'sci.electronics',\n",
       " 'talk.politics.misc',\n",
       " 'talk.politics.mideast',\n",
       " 'sci.space',\n",
       " 'soc.religion.christian',\n",
       " 'talk.religion.misc',\n",
       " 'talk.politics.guns',\n",
       " 'comp.sys.ibm.pc.hardware',\n",
       " 'rec.sport.baseball',\n",
       " 'alt.atheism',\n",
       " 'rec.autos',\n",
       " 'rec.motorcycles',\n",
       " 'misc.forsale',\n",
       " 'comp.graphics',\n",
       " 'comp.sys.mac.hardware',\n",
       " 'comp.os.ms-windows.misc',\n",
       " 'comp.windows.x']"
      ]
     },
     "execution_count": 10,
     "metadata": {
      "tags": []
     },
     "output_type": "execute_result"
    }
   ],
   "source": [
    "path_20_news = path + '/20_newsgroups'\n",
    "categories = os.listdir(path_20_news)\n",
    "categories"
   ]
  },
  {
   "cell_type": "code",
   "execution_count": null,
   "metadata": {
    "colab": {},
    "colab_type": "code",
    "id": "mjQI-fQFMt0L"
   },
   "outputs": [],
   "source": [
    "files = os.listdir(path_20_news)\n",
    "path_file = path_20_news + '/' + files[0]\n",
    "fd = open(path_file + '/' + os.listdir(path_file)[0])\n",
    "# print(fd.read())"
   ]
  },
  {
   "cell_type": "code",
   "execution_count": 12,
   "metadata": {
    "colab": {
     "base_uri": "https://localhost:8080/",
     "height": 16456
    },
    "colab_type": "code",
    "id": "wyRieQdNaW1J",
    "outputId": "d246736b-085c-49cd-a777-373eecb9153a"
   },
   "outputs": [
    {
     "data": {
      "text/plain": [
       "(['Xref',\n",
       "  ':',\n",
       "  'cantaloupe.srv.cs.cmu.edu',\n",
       "  'misc.kids:73984',\n",
       "  'sci.med:58045',\n",
       "  'Path',\n",
       "  ':',\n",
       "  'cantaloupe.srv.cs.cmu.edu',\n",
       "  '!',\n",
       "  'crabapple.srv.cs.cmu.edu',\n",
       "  '!',\n",
       "  'fs7.ece.cmu.edu',\n",
       "  '!',\n",
       "  'europa.eng.gtefsd.com',\n",
       "  '!',\n",
       "  'emory',\n",
       "  '!',\n",
       "  'swrinde',\n",
       "  '!',\n",
       "  'zaphod.mps.ohio-state.edu',\n",
       "  '!',\n",
       "  'ub',\n",
       "  '!',\n",
       "  'galileo.cc.rochester.edu',\n",
       "  '!',\n",
       "  'rochester',\n",
       "  '!',\n",
       "  'fulk',\n",
       "  'From',\n",
       "  ':',\n",
       "  'fulk',\n",
       "  '@',\n",
       "  'cs.rochester.edu',\n",
       "  '(',\n",
       "  'Mark',\n",
       "  'Fulk',\n",
       "  ')',\n",
       "  'Newsgroups',\n",
       "  ':',\n",
       "  'misc.kids',\n",
       "  ',',\n",
       "  'sci.med',\n",
       "  'Subject',\n",
       "  ':',\n",
       "  'Re',\n",
       "  ':',\n",
       "  'Breech',\n",
       "  'Baby',\n",
       "  'Info',\n",
       "  'Needed',\n",
       "  'Message-ID',\n",
       "  ':',\n",
       "  '<',\n",
       "  '1993Apr5.184453.8394',\n",
       "  '@',\n",
       "  'cs.rochester.edu',\n",
       "  '>',\n",
       "  'Date',\n",
       "  ':',\n",
       "  '5',\n",
       "  'Apr',\n",
       "  '93',\n",
       "  '18:44:53',\n",
       "  'GMT',\n",
       "  'References',\n",
       "  ':',\n",
       "  '<',\n",
       "  'TIGGER.93Apr2110251',\n",
       "  '@',\n",
       "  'satyr.Sylvan.COM',\n",
       "  '>',\n",
       "  '<',\n",
       "  '1993Apr3.161757.19612',\n",
       "  '@',\n",
       "  'cs.rochester.edu',\n",
       "  '>',\n",
       "  '<',\n",
       "  '1993Apr5.151818.27409',\n",
       "  '@',\n",
       "  'trentu.ca',\n",
       "  '>',\n",
       "  'Organization',\n",
       "  ':',\n",
       "  'University',\n",
       "  'of',\n",
       "  'Rochester',\n",
       "  'Lines',\n",
       "  ':',\n",
       "  '89',\n",
       "  'In',\n",
       "  'article',\n",
       "  '<',\n",
       "  '1993Apr5.151818.27409',\n",
       "  '@',\n",
       "  'trentu.ca',\n",
       "  '>',\n",
       "  'xtkmg',\n",
       "  '@',\n",
       "  'trentu.ca',\n",
       "  '(',\n",
       "  'Kate',\n",
       "  'Gregory',\n",
       "  ')',\n",
       "  'writes',\n",
       "  ':',\n",
       "  '>',\n",
       "  'In',\n",
       "  'article',\n",
       "  '<',\n",
       "  '1993Apr3.161757.19612',\n",
       "  '@',\n",
       "  'cs.rochester.edu',\n",
       "  '>',\n",
       "  'fulk',\n",
       "  '@',\n",
       "  'cs.rochester.edu',\n",
       "  '(',\n",
       "  'Mark',\n",
       "  'Fulk',\n",
       "  ')',\n",
       "  'writes',\n",
       "  ':',\n",
       "  '>',\n",
       "  '>',\n",
       "  '>',\n",
       "  '>',\n",
       "  'Another',\n",
       "  'uncommon',\n",
       "  'problem',\n",
       "  'is',\n",
       "  'maternal',\n",
       "  'hemorrhage',\n",
       "  '.',\n",
       "  'I',\n",
       "  'do',\n",
       "  \"n't\",\n",
       "  'remember',\n",
       "  'the',\n",
       "  '>',\n",
       "  '>',\n",
       "  'incidence',\n",
       "  ',',\n",
       "  'but',\n",
       "  'it',\n",
       "  'is',\n",
       "  'something',\n",
       "  'like',\n",
       "  '1',\n",
       "  'in',\n",
       "  '1,000',\n",
       "  'or',\n",
       "  '10,000',\n",
       "  'births',\n",
       "  '.',\n",
       "  'It',\n",
       "  'is',\n",
       "  'hard',\n",
       "  '>',\n",
       "  '>',\n",
       "  'to',\n",
       "  'see',\n",
       "  'how',\n",
       "  'you',\n",
       "  'could',\n",
       "  'handle',\n",
       "  'it',\n",
       "  'at',\n",
       "  'home',\n",
       "  ',',\n",
       "  'and',\n",
       "  'you',\n",
       "  'would',\n",
       "  \"n't\",\n",
       "  'have',\n",
       "  'very',\n",
       "  'much',\n",
       "  'time',\n",
       "  '.',\n",
       "  '>',\n",
       "  '>',\n",
       "  '>',\n",
       "  '>',\n",
       "  'thing',\n",
       "  'you',\n",
       "  'might',\n",
       "  'consider',\n",
       "  'is',\n",
       "  'that',\n",
       "  'people',\n",
       "  \"'s\",\n",
       "  'risk',\n",
       "  'tradeoffs',\n",
       "  'vary',\n",
       "  '.',\n",
       "  'I',\n",
       "  'consider',\n",
       "  '>',\n",
       "  '>',\n",
       "  'a',\n",
       "  '1/1,000',\n",
       "  'risk',\n",
       "  'of',\n",
       "  'loss',\n",
       "  'of',\n",
       "  'a',\n",
       "  'loved',\n",
       "  'one',\n",
       "  'to',\n",
       "  'require',\n",
       "  'considerable',\n",
       "  'effort',\n",
       "  'in',\n",
       "  '>',\n",
       "  '>',\n",
       "  'the',\n",
       "  'avoiding',\n",
       "  '.',\n",
       "  '>',\n",
       "  '>',\n",
       "  'Mark',\n",
       "  ',',\n",
       "  'you',\n",
       "  'seem',\n",
       "  'to',\n",
       "  'be',\n",
       "  'terrified',\n",
       "  'of',\n",
       "  'the',\n",
       "  'birth',\n",
       "  'process',\n",
       "  'That',\n",
       "  \"'s\",\n",
       "  'ridiculous',\n",
       "  '!',\n",
       "  '>',\n",
       "  'and',\n",
       "  'unable',\n",
       "  'to',\n",
       "  '>',\n",
       "  'believe',\n",
       "  'that',\n",
       "  'women',\n",
       "  \"'s\",\n",
       "  'bodies',\n",
       "  'are',\n",
       "  'actually',\n",
       "  'designed',\n",
       "  'to',\n",
       "  'do',\n",
       "  'it',\n",
       "  '.',\n",
       "  'They',\n",
       "  'are',\n",
       "  \"n't\",\n",
       "  'designed',\n",
       "  ',',\n",
       "  'they',\n",
       "  'evolved',\n",
       "  '.',\n",
       "  'And',\n",
       "  ',',\n",
       "  'much',\n",
       "  'as',\n",
       "  'it',\n",
       "  'discomforts',\n",
       "  'us',\n",
       "  ',',\n",
       "  'in',\n",
       "  'humans',\n",
       "  'a',\n",
       "  'trouble-free',\n",
       "  'birth',\n",
       "  'process',\n",
       "  'was',\n",
       "  'sacrificed',\n",
       "  'to',\n",
       "  'increased',\n",
       "  'brain',\n",
       "  'and',\n",
       "  'cranial',\n",
       "  'size',\n",
       "  '.',\n",
       "  'Wild',\n",
       "  'animals',\n",
       "  'have',\n",
       "  'a',\n",
       "  'much',\n",
       "  'easier',\n",
       "  'time',\n",
       "  'with',\n",
       "  'birth',\n",
       "  'than',\n",
       "  'humans',\n",
       "  'do',\n",
       "  '.',\n",
       "  'Domestic',\n",
       "  'horses',\n",
       "  'and',\n",
       "  'cows',\n",
       "  'typically',\n",
       "  'have',\n",
       "  'a',\n",
       "  'worse',\n",
       "  'time',\n",
       "  '.',\n",
       "  'To',\n",
       "  'give',\n",
       "  'you',\n",
       "  'an',\n",
       "  'idea',\n",
       "  ':',\n",
       "  'my',\n",
       "  'family',\n",
       "  'tree',\n",
       "  'is',\n",
       "  'complicated',\n",
       "  'because',\n",
       "  'a',\n",
       "  'few',\n",
       "  'of',\n",
       "  'my',\n",
       "  'pioneer',\n",
       "  'great-great-',\n",
       "  'grandfathers',\n",
       "  'had',\n",
       "  'several',\n",
       "  'wives',\n",
       "  ',',\n",
       "  'and',\n",
       "  'we',\n",
       "  'never',\n",
       "  'could',\n",
       "  'figure',\n",
       "  'out',\n",
       "  'which',\n",
       "  'wife',\n",
       "  'had',\n",
       "  'each',\n",
       "  'child',\n",
       "  '.',\n",
       "  'One',\n",
       "  'might',\n",
       "  'ask',\n",
       "  'why',\n",
       "  'this',\n",
       "  'happened',\n",
       "  '.',\n",
       "  'My',\n",
       "  'great-great-',\n",
       "  'grandfathers',\n",
       "  'were',\n",
       "  ',',\n",
       "  'by',\n",
       "  'the',\n",
       "  'time',\n",
       "  'they',\n",
       "  'reached',\n",
       "  'their',\n",
       "  'forties',\n",
       "  ',',\n",
       "  'quite',\n",
       "  'prosperous',\n",
       "  'farmers',\n",
       "  '.',\n",
       "  'Nonetheless',\n",
       "  ',',\n",
       "  'they',\n",
       "  'lost',\n",
       "  'several',\n",
       "  'wives',\n",
       "  'each',\n",
       "  'to',\n",
       "  'the',\n",
       "  'rigors',\n",
       "  'of',\n",
       "  'childbirth',\n",
       "  ';',\n",
       "  'the',\n",
       "  'graveyards',\n",
       "  'in',\n",
       "  'Spencer',\n",
       "  ',',\n",
       "  'Indiana',\n",
       "  ',',\n",
       "  'and',\n",
       "  'Boswell',\n",
       "  ',',\n",
       "  'North',\n",
       "  'Dakota',\n",
       "  ',',\n",
       "  'contain',\n",
       "  'quite',\n",
       "  'a',\n",
       "  'few',\n",
       "  'gravestones',\n",
       "  'like',\n",
       "  '``',\n",
       "  'Ida',\n",
       "  ',',\n",
       "  'wf',\n",
       "  '.',\n",
       "  'of',\n",
       "  'Jacob',\n",
       "  'Liptrap',\n",
       "  ',',\n",
       "  'and',\n",
       "  'baby',\n",
       "  ',',\n",
       "  'May',\n",
       "  '6',\n",
       "  ',',\n",
       "  '1853',\n",
       "  '.',\n",
       "  \"''\",\n",
       "  '>',\n",
       "  'You',\n",
       "  'wanted',\n",
       "  '>',\n",
       "  'to',\n",
       "  'section',\n",
       "  'all',\n",
       "  'women',\n",
       "  'carrying',\n",
       "  'breech',\n",
       "  'in',\n",
       "  'case',\n",
       "  'one',\n",
       "  'in',\n",
       "  'a',\n",
       "  'hundred',\n",
       "  'or',\n",
       "  'a',\n",
       "  '>',\n",
       "  'thousand',\n",
       "  'breech',\n",
       "  'babies',\n",
       "  'get',\n",
       "  'hung',\n",
       "  'up',\n",
       "  'in',\n",
       "  'second',\n",
       "  'stage',\n",
       "  ',',\n",
       "  'More',\n",
       "  'like',\n",
       "  'one',\n",
       "  'in',\n",
       "  'ten',\n",
       "  '.',\n",
       "  'And',\n",
       "  'the',\n",
       "  'consequences',\n",
       "  'can',\n",
       "  'be',\n",
       "  'devastating',\n",
       "  ';',\n",
       "  'I',\n",
       "  'have',\n",
       "  'direct',\n",
       "  'experience',\n",
       "  'of',\n",
       "  'more',\n",
       "  'than',\n",
       "  'a',\n",
       "  'dozen',\n",
       "  'victims',\n",
       "  'of',\n",
       "  'a',\n",
       "  'fouled-up',\n",
       "  'breech',\n",
       "  'birth',\n",
       "  '.',\n",
       "  '>',\n",
       "  'and',\n",
       "  'now',\n",
       "  'you',\n",
       "  'want',\n",
       "  '>',\n",
       "  'all',\n",
       "  'babies',\n",
       "  'born',\n",
       "  'in',\n",
       "  'hospital',\n",
       "  'based',\n",
       "  'on',\n",
       "  'a',\n",
       "  'guess',\n",
       "  'of',\n",
       "  'how',\n",
       "  'likely',\n",
       "  'maternal',\n",
       "  '>',\n",
       "  'hemorrhage',\n",
       "  'is',\n",
       "  'and',\n",
       "  'a',\n",
       "  'false',\n",
       "  'belief',\n",
       "  'that',\n",
       "  'it',\n",
       "  'is',\n",
       "  'fatal',\n",
       "  '.',\n",
       "  'It',\n",
       "  'is',\n",
       "  \"n't\",\n",
       "  'always',\n",
       "  'fatal',\n",
       "  '.',\n",
       "  'But',\n",
       "  'it',\n",
       "  'is',\n",
       "  'often',\n",
       "  'fatal',\n",
       "  ',',\n",
       "  'when',\n",
       "  'it',\n",
       "  'happens',\n",
       "  'out',\n",
       "  'of',\n",
       "  'reach',\n",
       "  'of',\n",
       "  'adequate',\n",
       "  'help',\n",
       "  '.',\n",
       "  'More',\n",
       "  'often',\n",
       "  ',',\n",
       "  'it',\n",
       "  'permanently',\n",
       "  'damages',\n",
       "  'one',\n",
       "  \"'s\",\n",
       "  'health',\n",
       "  '.',\n",
       "  'Clearly',\n",
       "  'women',\n",
       "  \"'s\",\n",
       "  'bodies',\n",
       "  '_evolved_',\n",
       "  'to',\n",
       "  'give',\n",
       "  'birth',\n",
       "  '(',\n",
       "  'I',\n",
       "  'am',\n",
       "  'no',\n",
       "  'believer',\n",
       "  'in',\n",
       "  'divine',\n",
       "  'design',\n",
       "  ')',\n",
       "  ';',\n",
       "  'however',\n",
       "  ',',\n",
       "  'evolution',\n",
       "  'did',\n",
       "  'not',\n",
       "  'favor',\n",
       "  'trouble-free',\n",
       "  'births',\n",
       "  'for',\n",
       "  'humans',\n",
       "  '.',\n",
       "  '>',\n",
       "  'You',\n",
       "  'have',\n",
       "  'your',\n",
       "  'kids',\n",
       "  'where',\n",
       "  'you',\n",
       "  'want',\n",
       "  '.',\n",
       "  'You',\n",
       "  'encourage',\n",
       "  'your',\n",
       "  'wife',\n",
       "  'to',\n",
       "  '>',\n",
       "  'get',\n",
       "  'six',\n",
       "  'inch',\n",
       "  'holes',\n",
       "  'cut',\n",
       "  'through',\n",
       "  'her',\n",
       "  'stomach',\n",
       "  'muscles',\n",
       "  ',',\n",
       "  'expose',\n",
       "  'herself',\n",
       "  '>',\n",
       "  'to',\n",
       "  'anesthesia',\n",
       "  'and',\n",
       "  'infection',\n",
       "  ',',\n",
       "  'and',\n",
       "  'whatever',\n",
       "  'other',\n",
       "  '``',\n",
       "  'just',\n",
       "  'in',\n",
       "  'case',\n",
       "  \"''\",\n",
       "  'measures',\n",
       "  '>',\n",
       "  'you',\n",
       "  'think',\n",
       "  'are',\n",
       "  'necessary',\n",
       "  '.',\n",
       "  'My',\n",
       "  ',',\n",
       "  'are',\n",
       "  \"n't\",\n",
       "  'we',\n",
       "  'wroth',\n",
       "  '!',\n",
       "  'I',\n",
       "  'have',\n",
       "  \"n't\",\n",
       "  'read',\n",
       "  'a',\n",
       "  'more',\n",
       "  'outrageous',\n",
       "  'straw',\n",
       "  'man',\n",
       "  'attack',\n",
       "  'in',\n",
       "  'months',\n",
       "  '!',\n",
       "  'I',\n",
       "  'can',\n",
       "  'practically',\n",
       "  'see',\n",
       "  'your',\n",
       "  'mouth',\n",
       "  'foam',\n",
       "  '.',\n",
       "  'We',\n",
       "  \"'re\",\n",
       "  'statistically',\n",
       "  'sophisticated',\n",
       "  'enough',\n",
       "  'to',\n",
       "  'balance',\n",
       "  'the',\n",
       "  'risks',\n",
       "  '.',\n",
       "  'Although',\n",
       "  'I',\n",
       "  'ca',\n",
       "  \"n't\",\n",
       "  'produce',\n",
       "  'exact',\n",
       "  'statistics',\n",
       "  '5',\n",
       "  'years',\n",
       "  'after',\n",
       "  'the',\n",
       "  'last',\n",
       "  'time',\n",
       "  'we',\n",
       "  'looked',\n",
       "  'them',\n",
       "  'up',\n",
       "  ',',\n",
       "  'rest',\n",
       "  'assured',\n",
       "  'that',\n",
       "  'we',\n",
       "  'balanced',\n",
       "  'C-section',\n",
       "  'risks',\n",
       "  'against',\n",
       "  'other',\n",
       "  'risks',\n",
       "  '.',\n",
       "  'I',\n",
       "  'would',\n",
       "  \"n't\",\n",
       "  'encourage',\n",
       "  'my',\n",
       "  'wife',\n",
       "  'to',\n",
       "  'have',\n",
       "  'a',\n",
       "  'Caesarean',\n",
       "  'unless',\n",
       "  'it',\n",
       "  'was',\n",
       "  'clearly',\n",
       "  'indicated',\n",
       "  ';',\n",
       "  'on',\n",
       "  'the',\n",
       "  'other',\n",
       "  'hand',\n",
       "  ',',\n",
       "  'I',\n",
       "  'am',\n",
       "  'opposed',\n",
       "  '(',\n",
       "  'on',\n",
       "  'obvious',\n",
       "  'grounds',\n",
       "  ')',\n",
       "  'to',\n",
       "  'waiting',\n",
       "  'until',\n",
       "  'an',\n",
       "  'emergency',\n",
       "  'to',\n",
       "  'give',\n",
       "  'in',\n",
       "  '.',\n",
       "  'And',\n",
       "  'bear',\n",
       "  'this',\n",
       "  'in',\n",
       "  'mind',\n",
       "  ':',\n",
       "  'my',\n",
       "  'wife',\n",
       "  'took',\n",
       "  'the',\n",
       "  'lead',\n",
       "  'in',\n",
       "  'all',\n",
       "  'of',\n",
       "  'these',\n",
       "  'decisions',\n",
       "  '.',\n",
       "  'We',\n",
       "  'talked',\n",
       "  'things',\n",
       "  'over',\n",
       "  ',',\n",
       "  'and',\n",
       "  'I',\n",
       "  'did',\n",
       "  'a',\n",
       "  'lot',\n",
       "  'of',\n",
       "  'the',\n",
       "  'leg',\n",
       "  'work',\n",
       "  ',',\n",
       "  'but',\n",
       "  'the',\n",
       "  'main',\n",
       "  'decisions',\n",
       "  'were',\n",
       "  'really',\n",
       "  'hers',\n",
       "  '.',\n",
       "  '>',\n",
       "  'But',\n",
       "  'I',\n",
       "  'for',\n",
       "  'one',\n",
       "  'am',\n",
       "  'bothered',\n",
       "  'by',\n",
       "  'your',\n",
       "  'continued',\n",
       "  '>',\n",
       "  'suggestions',\n",
       "  ',',\n",
       "  'especially',\n",
       "  'to',\n",
       "  'the',\n",
       "  'misc.kidders',\n",
       "  'pregnant',\n",
       "  'for',\n",
       "  'the',\n",
       "  'first',\n",
       "  '>',\n",
       "  'time',\n",
       "  ',',\n",
       "  'that',\n",
       "  'birth',\n",
       "  'is',\n",
       "  'dangerous',\n",
       "  ',',\n",
       "  'even',\n",
       "  'fatal',\n",
       "  ',',\n",
       "  'and',\n",
       "  'that',\n",
       "  'all',\n",
       "  'these',\n",
       "  '>',\n",
       "  'unpleasant',\n",
       "  'things',\n",
       "  'are',\n",
       "  'far',\n",
       "  'better',\n",
       "  'than',\n",
       "  'the',\n",
       "  'risks',\n",
       "  'you',\n",
       "  'run',\n",
       "  'just',\n",
       "  'doing',\n",
       "  '>',\n",
       "  'it',\n",
       "  'naturally',\n",
       "  '.',\n",
       "  'I',\n",
       "  'do',\n",
       "  \"n't\",\n",
       "  'know',\n",
       "  'of',\n",
       "  'very',\n",
       "  'many',\n",
       "  'home',\n",
       "  'birth',\n",
       "  'advocates',\n",
       "  ',',\n",
       "  'even',\n",
       "  ',',\n",
       "  'that',\n",
       "  'think',\n",
       "  'that',\n",
       "  'a',\n",
       "  'first-time',\n",
       "  'mother',\n",
       "  'should',\n",
       "  'have',\n",
       "  'her',\n",
       "  'baby',\n",
       "  'at',\n",
       "  'home',\n",
       "  '.',\n",
       "  '>',\n",
       "  'I',\n",
       "  \"'m\",\n",
       "  'no',\n",
       "  'Luddite',\n",
       "  '.',\n",
       "  'I',\n",
       "  \"'ve\",\n",
       "  'had',\n",
       "  'a',\n",
       "  'section',\n",
       "  '.',\n",
       "  'I',\n",
       "  \"'m\",\n",
       "  'planning',\n",
       "  'a',\n",
       "  'hospital',\n",
       "  'birth',\n",
       "  '>',\n",
       "  'this',\n",
       "  'time',\n",
       "  '.',\n",
       "  'But',\n",
       "  'for',\n",
       "  'heaven',\n",
       "  \"'s\",\n",
       "  'sake',\n",
       "  ',',\n",
       "  'not',\n",
       "  'everyone',\n",
       "  'needs',\n",
       "  'that',\n",
       "  '!',\n",
       "  'But',\n",
       "  'people',\n",
       "  'should',\n",
       "  'bother',\n",
       "  'to',\n",
       "  'find',\n",
       "  'out',\n",
       "  'the',\n",
       "  'relative',\n",
       "  'risks',\n",
       "  '.',\n",
       "  'My',\n",
       "  'wife',\n",
       "  'was',\n",
       "  'unwilling',\n",
       "  'to',\n",
       "  'take',\n",
       "  'any',\n",
       "  'significant',\n",
       "  'risks',\n",
       "  'in',\n",
       "  'order',\n",
       "  'to',\n",
       "  'have',\n",
       "  'nice',\n",
       "  'surroundings',\n",
       "  '.',\n",
       "  'In',\n",
       "  'view',\n",
       "  'of',\n",
       "  'the',\n",
       "  'intensity',\n",
       "  'of',\n",
       "  'the',\n",
       "  'birth',\n",
       "  'experience',\n",
       "  ',',\n",
       "  'I',\n",
       "  'doubt',\n",
       "  'surroundings',\n",
       "  'have',\n",
       "  'much',\n",
       "  'importance',\n",
       "  'anyway',\n",
       "  '.',\n",
       "  'Somehow',\n",
       "  'the',\n",
       "  'values',\n",
       "  'you',\n",
       "  \"'re\",\n",
       "  'advocating',\n",
       "  'seem',\n",
       "  'all',\n",
       "  'lopsided',\n",
       "  'to',\n",
       "  'me',\n",
       "  ':',\n",
       "  'taking',\n",
       "  'risks',\n",
       "  ',',\n",
       "  'even',\n",
       "  'if',\n",
       "  'fairly',\n",
       "  'small',\n",
       "  ',',\n",
       "  'of',\n",
       "  'serious',\n",
       "  'permanent',\n",
       "  'harm',\n",
       "  'in',\n",
       "  'order',\n",
       "  'to',\n",
       "  'preserve',\n",
       "  'something',\n",
       "  'that',\n",
       "  'is',\n",
       "  ',',\n",
       "  'after',\n",
       "  'all',\n",
       "  ',',\n",
       "  'an',\n",
       "  'esthetic',\n",
       "  'consideration',\n",
       "  '.',\n",
       "  '--',\n",
       "  'Mark',\n",
       "  'A.',\n",
       "  'Fulk',\n",
       "  'University',\n",
       "  'of',\n",
       "  'Rochester',\n",
       "  'Computer',\n",
       "  'Science',\n",
       "  'Department',\n",
       "  'fulk',\n",
       "  '@',\n",
       "  'cs.rochester.edu'],\n",
       " 'sci.med')"
      ]
     },
     "execution_count": 12,
     "metadata": {
      "tags": []
     },
     "output_type": "execute_result"
    }
   ],
   "source": [
    "dic = []\n",
    "for cat in categories :\n",
    "  files_path = path_20_news + '/' + cat\n",
    "  files = os.listdir(files_path)\n",
    "  for fileid in files:\n",
    "    fd = open(files_path + '/' + fileid,'r',encoding=\"ISO-8859-1\")\n",
    "    file_words = tokenize.word_tokenize(fd.read())\n",
    "    dic.append((file_words,cat))\n",
    "dic[0]"
   ]
  },
  {
   "cell_type": "markdown",
   "metadata": {
    "colab_type": "text",
    "id": "uJ5AY0edRFii"
   },
   "source": [
    "### Now we need to shuffle our data"
   ]
  },
  {
   "cell_type": "code",
   "execution_count": 13,
   "metadata": {
    "colab": {
     "base_uri": "https://localhost:8080/",
     "height": 54
    },
    "colab_type": "code",
    "id": "xs7rcQOARPmK",
    "outputId": "2ba6c1d0-7d95-41fc-80e3-770cc6ac50fb"
   },
   "outputs": [
    {
     "name": "stdout",
     "output_type": "stream",
     "text": [
      "[(['Xref', ':', 'cantaloupe.srv.cs.cmu.edu', 'comp.multimedia:6735', 'comp.graphics:38806', 'Path', ':', 'cantaloupe.srv.cs.cmu.edu', '!', 'magnesium.club.cc.cmu.edu', '!', 'news.sei.cmu.edu', '!', 'fs7.ece.cmu.edu', '!', 'europa.eng.gtefsd.com', '!', 'howland.reston.ans.net', '!', 'ira.uka.de', '!', 'news.dfn.de', '!', 'mailgzrz.TU-Berlin.DE', '!', 'news.netmbx.de', '!', 'Germany.EU.net', '!', 'mcsun', '!', 'sunic', '!', 'sics.se', '!', 'vall', '!', 'matt-dah', 'From', ':', 'matt-dah', '@', 'dsv.su.se', '(', 'Mattias', 'Dahlberg', ')', 'Newsgroups', ':', 'comp.multimedia', ',', 'comp.graphics', 'Subject', ':', 'Re', ':', 'Psygnosis', 'CD-I', 'titles', '(', 'was', 'Re', ':', 'Rumours', 'about', '3DO', '?', '?', '?', ')', 'Message-ID', ':', '<', '2978', '@', 'vall.dsv.su.se', '>', 'Date', ':', '27', 'Apr', '93', '08:43:32', 'GMT', 'References', ':', '<', '1857', '@', 'prlhp1.prl.philips.co.uk', '>', 'Sender', ':', 'newsuser', '@', 'vall.dsv.su.se', 'Followup-To', ':', 'comp.multimedia', ',', 'comp.graphics', 'Organization', ':', 'Dept', '.', 'of', 'Computer', 'and', 'Systems', 'Sciences', ',', 'Stockholm', 'University', 'Lines', ':', '12', 'X-Newsreader', ':', 'TIN', '[', 'version', '1.1', 'PL8', ']', 'Mark', 'Samson', '(', 'samson', '@', 'prlhp1.prl.philips.co.uk', ')', 'wrote', ':', '>', 'Speaking', 'of', 'Psygnosis', ',', 'they', 'have', 'licensed', 'games', 'to', 'Philips', 'Interative', '>', 'Media', 'International', 'for', 'CD-I', '.', 'And', 'for', 'the', 'Commodore', 'CDTV', '.', '--', '=========================================================', '=', 'Regards', '=', 'email', ':', '=', '1280x512x262000+', '=', '=', 'Mattias', '=', 'matt-dah', '@', 'dsv.su.se', '=', 'I', 'love', 'it', '.', '=', '========================================================='], 'comp.graphics'), (['Xref', ':', 'cantaloupe.srv.cs.cmu.edu', 'talk.abortion:120771', 'alt.atheism:53378', 'talk.religion.misc:83784', 'Path', ':', 'cantaloupe.srv.cs.cmu.edu', '!', 'das-news.harvard.edu', '!', 'noc.near.net', '!', 'uunet', '!', 'pipex', '!', 'ibmpcug', '!', 'mantis', '!', 'news', 'From', ':', 'mathew', '<', 'mathew', '@', 'mantis.co.uk', '>', 'Newsgroups', ':', 'talk.abortion', ',', 'alt.atheism', ',', 'talk.religion.misc', 'Subject', ':', 'Re', ':', 'After', '2000', 'years', ',', 'can', 'we', 'say', 'that', 'Christian', 'Morality', 'is', 'Message-ID', ':', '<', '930416.135238.7J6.rusnews.w165w', '@', 'mantis.co.uk', '>', 'Date', ':', 'Fri', ',', '16', 'Apr', '1993', '13:52:38', '+0100', 'References', ':', '<', '1qjbn0', '$', 'na4', '@', 'horus.ap.mchp.sni.de', '>', '<', '1qk1md', '$', '6gs', '@', 'kyle.eitech.com', '>', '<', '1qkjvc', '$', '4jv', '@', 'horus.ap.mchp.sni.de', '>', 'Followup-To', ':', 'alt.atheism', 'Organization', ':', 'Mantis', 'Consultants', ',', 'Cambridge', '.', 'UK', '.', 'X-Newsreader', ':', 'rusnews', 'v1.01', 'Lines', ':', '35', 'frank', '@', 'D012S658.uucp', '(', 'Frank', \"O'Dwyer\", ')', 'writes', ':', '>', 'In', 'article', '<', '1qk1md', '$', '6gs', '@', 'kyle.eitech.com', '>', 'ekr', '@', 'kyle.eitech.com', '(', 'Eric', 'Rescorla', ')', '>', 'writes', ':', '>', '>', 'In', 'article', '<', '1qjbn0', '$', 'na4', '@', 'horus.ap.mchp.sni.de', '>', 'frank', '@', 'D012S658.uucp', '(', 'Frank', '>', '>', \"O'Dwyer\", ')', 'writes', ':', '>', '>', '>', 'Really', '?', 'You', 'do', \"n't\", 'know', 'what', 'objective', 'value', 'is', '?', 'If', 'I', 'offered', 'the', 'people', '>', '>', '>', 'of', 'the', 'U.S.', ',', 'collectively', ',', '$', '1', 'for', 'all', 'of', 'the', 'land', 'in', 'America', ',', 'would', 'that', '>', '>', '>', 'sound', 'like', 'a', 'good', 'deal', '?', '>', '>', '>', '>', 'Well', ',', 'that', 'would', 'depend', 'on', 'how', 'much', 'we', 'wanted', 'the', 'US', 'and', 'how', 'much', '>', '>', 'we', 'wanted', 'the', '$', '1', ',', 'would', \"n't\", 'it', '?', '>', '>', 'Yes', 'it', 'would', '.', 'Luckily', 'these', 'parameters', 'are', 'fixed', 'by', 'reality', '.', 'Suppose', 'X-ist', 'saucers', 'land', '.', 'The', 'aliens', 'destroy', 'all', 'paper', 'currency', 'and', 'tattoo', \"''\", '666', \"''\", 'on', 'people', \"'s\", 'foreheads', 'and', 'start', 'sacrificing', 'small', 'children', '.', 'Then', 'a', 'bunch', 'of', 'other', 'aliens', 'come', 'along', 'and', 'offer', 'to', 'get', 'rid', 'of', 'the', 'X-ists', 'in', 'return', 'for', 'one', 'dollar', '.', 'The', 'people', 'happen', 'to', 'have', 'a', 'single', 'dollar', 'bill', 'hidden', 'during', 'the', 'purge', '.', 'Get', 'the', 'point', '?', 'None', 'of', 'these', 'events', 'are', '*inherently*', 'impossible', '.', 'So', 'it', 'is', 'not', 'the', 'case', 'that', 'the', 'value', 'of', 'a', 'dollar', 'bill', 'is', 'fixed', 'by', 'reality', '.', 'For', 'a', 'more', 'mundane', 'example', 'of', 'how', 'the', 'value', 'of', 'a', 'dollar', 'bill', 'is', 'not', 'constant', ',', 'consider', 'the', 'following', 'game', 'thought', 'up', 'by', 'the', 'RAND', 'corporation', ':', 'You', 'are', 'with', 'a', 'bunch', 'of', 'friends', '.', 'You', 'have', 'a', '$', '10', 'bill', '.', 'You', 'offer', 'to', 'sell', 'the', '$', '10', 'bill', 'to', 'the', 'highest', 'bidder', '--', 'subject', 'to', 'the', 'restriction', 'that', 'you', 'also', 'get', 'to', 'take', 'the', 'money', 'bid', 'by', 'the', 'second-highest', 'bidder', '.', 'Try', 'it', '.', 'You', \"'ll\", 'find', 'that', 'sometimes', 'people', 'will', 'end', 'up', 'bidding', 'more', 'than', '$', '10', 'for', 'your', '$', '10', 'bill', '.', 'mathew'], 'alt.atheism'), (['Xref', ':', 'cantaloupe.srv.cs.cmu.edu', 'comp.os.msdos.misc:12965', 'comp.sys.ibm.pc.hardware:60472', 'Path', ':', 'cantaloupe.srv.cs.cmu.edu', '!', 'das-news.harvard.edu', '!', 'noc.near.net', '!', 'howland.reston.ans.net', '!', 'wupost', '!', 'waikato.ac.nz', '!', 'canterbury.ac.nz', '!', 'cantva', '!', 'phys169', 'Newsgroups', ':', 'comp.os.msdos.misc', ',', 'comp.sys.ibm.pc.hardware', 'Subject', ':', 'Re', ':', 'Date', 'is', 'stuck', 'Message-ID', ':', '<', '1993Apr19.164411.1', '@', 'csc.canterbury.ac.nz', '>', 'From', ':', 'phys169', '@', 'csc.canterbury.ac.nz', 'Date', ':', 'Mon', ',', '19', 'Apr', '1993', '04:44:11', 'GMT', 'References', ':', '<', '1993Apr14.132300.27816', '@', 'kosman.uucp', '>', 'Organization', ':', 'University', 'of', 'Canterbury', ',', 'Christchurch', ',', 'New', 'Zealand', 'Nntp-Posting-Host', ':', 'cantva.canterbury.ac.nz', 'Lines', ':', '25', 'In', 'article', '<', '1993Apr14.132300.27816', '@', 'kosman.uucp', '>', ',', 'kevin', '@', 'kosman.uucp', '(', 'Kevin', \"O'Gorman\", ')', 'writes', ':', '>', 'Anybody', 'seen', 'the', 'date', 'get', 'stuck', '?', '>', '>', 'I', \"'m\", 'running', 'MS-DOS', '5.0', 'with', 'a', 'menu', 'system', 'alive', 'all', 'the', 'time', '.', 'The', 'machine', '>', 'is', 'left', 'running', 'all', 'the', 'time', '.', '>', '>', 'Suddenly', ',', 'the', 'date', 'no', 'longer', 'rolls', 'over', '.', 'The', 'time', 'is', '(', 'reasonably', ')', 'accurate', '>', 'allways', ',', 'but', 'we', 'have', 'to', 'change', 'the', 'date', 'by', 'hand', 'every', 'morning', '.', 'This', 'involves', '>', 'exiting', 'the', 'menu', 'system', 'to', 'get', 'to', 'DOS', '.', '>', '>', 'Anyone', 'have', 'the', 'slightest', 'idea', 'why', 'this', 'should', 'be', '?', 'Even', 'a', 'clue', 'as', 'to', 'whether', '>', 'the', 'hardware', '(', 'battery', '?', 'CMOS', '?', ')', 'or', 'DOS', 'is', 'broken', '?', 'I', 'bet', 'it', 'suddenly', 'started', 'sticking', 'when', 'you', 'started', 'leaving', 'the', 'PC', 'running', 'the', 'menu', 'all', 'night', '.', 'There', 'is', 'a', 'limitation/bug', 'in', 'the', 'date', 'roll-over', 'software', 'in', 'PC', \"'s\", 'that', 'means', 'you', 'have', 'to', 'be', 'doing', 'something', 'like', 'waiting', 'for', 'keyboard', 'input', 'via', 'a', 'DOS', 'call', 'rather', 'than', 'a', 'BIOS', 'call', '(', 'as', 'menus', 'often', 'use', ')', 'otherwise', 'the', 'code', 'to', 'update', 'the', 'date', 'after', 'midnight', 'never', 'gets', 'called', '.', 'Somebody', 'might', 'be', 'able', 'to', 'correct', 'the', 'details', 'in', 'case', 'I', \"'ve\", 'mis-rememberred', 'them', ',', 'but', 'I', 'think', 'you', 'have', 'to', 'change', 'the', 'menu', 'program', '(', 'if', 'you', 'have', 'the', 'sources', ')', 'or', 'add', 'a', 'TSR', 'or', 'system', 'patch', 'or', 'something', '.', 'As', 'far', 'as', 'I', 'know', 'the', 'CMOS', 'clock', 'keeps', 'the', 'right', 'time', '(', 'in', 'fact', 'about', '7', 'seconds/day', 'better', 'than', 'DOS', \"'s\", 'clock', ')', '.', 'Mark', 'Aitchison', ',', 'University', 'of', 'Canterbury', '.'], 'comp.sys.ibm.pc.hardware'), (['Path', ':', 'cantaloupe.srv.cs.cmu.edu', '!', 'das-news.harvard.edu', '!', 'noc.near.net', '!', 'howland.reston.ans.net', '!', 'zaphod.mps.ohio-state.edu', '!', 'cs.utexas.edu', '!', 'rutgers', '!', 'igor.rutgers.edu', '!', 'geneva.rutgers.edu', '!', 'christian', 'From', ':', 'Christopher.S.Weinberger', '@', 'williams.edu', '(', 'Gib', ')', 'Newsgroups', ':', 'soc.religion.christian', 'Subject', ':', 'Re', ':', 'Divine', 'providence', 'vs.', 'Murphy', \"'s\", 'Law', 'Message-ID', ':', '<', 'Apr.20.03.02.10.1993.3794', '@', 'geneva.rutgers.edu', '>', 'Date', ':', '20', 'Apr', '93', '07:02:11', 'GMT', 'Sender', ':', 'hedrick', '@', 'geneva.rutgers.edu', 'Organization', ':', 'Williams', 'College', ',', 'Williamstown', ',', 'MA', 'Lines', ':', '21', 'Approved', ':', 'christian', '@', 'aramis.rutgers.edu', 'In', 'article', '<', 'Apr.19.05.13.28.1993.29224', '@', 'athos.rutgers.edu', '>', 'rolfe', '@', 'junior.dsu.edu', '(', 'Tim', 'Rolfe', ')', 'writes', ':', '>', 'Romans', '8:28', '(', 'RSV', ')', 'We', 'know', 'that', 'in', 'everything', 'God', 'works', 'for', 'good', 'with', 'those', '>', 'who', 'love', 'him', ',', 'who', 'are', 'called', 'according', 'to', 'his', 'purpose', '.', '>', 'Murphy', \"'s\", 'Law', ':', 'If', 'anything', 'can', 'go', 'wrong', ',', 'it', 'will', '.', '>', 'We', 'are', 'all', 'quite', 'familiar', 'with', 'the', 'amplifications', 'and', 'commentary', 'on', '>', 'Murphy', \"'s\", 'Law', '.', 'But', 'how', 'do', 'we', 'harmonize', 'that', 'with', 'Romans', '8:28', '?', 'For', 'that', '>', 'matter', ',', 'how', 'appropriate', 'is', 'humor', 'contradicted', 'by', 'Scripture', '?', 'Both', 'Christians', 'and', 'non-Christians', 'laugh', 'at', 'this', 'quote', 'because', 'it', 'exaggerates', 'something', 'we', 'all', 'feel', ',', 'but', 'know', 'is', 'not', 'true', '.', 'Us', 'Christians', 'just', 'KNOW', 'that', 'a', 'little', 'better', '!', ':', ')', 'In', 'God', 'we', 'trust', '!', '-Christopher', 'email', '@', '96csw', '@', 'williams.edu'], 'soc.religion.christian'), (['Xref', ':', 'cantaloupe.srv.cs.cmu.edu', 'talk.politics.mideast:76185', 'soc.culture.jewish:63484', 'Newsgroups', ':', 'talk.politics.mideast', ',', 'soc.culture.jewish', 'Path', ':', 'cantaloupe.srv.cs.cmu.edu', '!', 'magnesium.club.cc.cmu.edu', '!', 'news.sei.cmu.edu', '!', 'cis.ohio-state.edu', '!', 'zaphod.mps.ohio-state.edu', '!', 'uwm.edu', '!', 'ux1.cso.uiuc.edu', '!', 'news.cso.uiuc.edu', '!', 'ux4.cso.uiuc.edu', '!', 'eshneken', 'From', ':', 'eshneken', '@', 'ux4.cso.uiuc.edu', '(', 'Edward', 'A', 'Shnekendorf', ')', 'Subject', ':', 'Zionism', 'Date', ':', 'Sat', ',', '24', 'Apr', '1993', '17:38:36', 'GMT', 'Message-ID', ':', '<', 'C6010C.JDI', '@', 'news.cso.uiuc.edu', '>', 'Sender', ':', 'usenet', '@', 'news.cso.uiuc.edu', '(', 'Net', 'Noise', 'owner', ')', 'Organization', ':', 'University', 'of', 'Illinois', 'at', 'Urbana', 'Lines', ':', '24', 'The', 'following', 'flyer', 'was', 'distributed', 'at', 'AIPAC', \"'s\", '34th', 'annual', 'Policy', 'Conference', ':', 'Because', 'when', 'we', \"'re\", 'not', 'in', 'Israel', ',', 'we', \"'re\", 'told', 'to', 'go', 'back', 'where', 'we', 'came', 'from', 'and', 'when', 'we', 'come', 'back', 'to', 'Israel', 'we', \"'re\", 'told', 'to', 'go', 'back', 'to', 'where', 'we', 'came', 'from', 'and', 'when', 'we', \"'re\", 'vocal', 'we', 'have', 'too', 'much', 'influence', 'and', 'when', 'we', 'are', 'quiet', 'we', 'can', 'afford', 'to', 'be', 'because', 'we', 'we', 'control', 'everything', 'anyway', 'and', 'when', 'we', 'buy', 'something', 'we', 'can', 'afford', 'to', 'because', 'Jews', 'are', 'so', 'rich', 'and', 'when', 'we', 'do', \"n't\", 'buy', 'something', 'it', \"'s\", 'because', 'we', \"'re\", 'cheap', 'and', 'because', 'when', 'we', 'are', 'poor', 'we', \"'re\", 'called', 'dirty', 'Jew', 'and', 'ignorant', 'and', 'when', 'we', \"'re\", 'not', 'we', \"'re\", 'called', 'called', 'rich', 'Jew', 'and', 'JAP', 'and', 'when', 'we', 'are', 'visibly', 'organized', 'it', \"'s\", 'because', 'there', 'is', 'a', 'secret', 'Jewish', 'conspiracy', 'and', 'when', 'we', \"'re\", 'not', 'it', 'is', 'because', 'there', 'is', 'a', 'secret', 'Jewish', 'conspiracy', 'and', 'because', 'we', \"'re\", 'told', 'we', \"'re\", 'not', 'a', 'people', 'and', 'when', 'we', 'say', 'we', 'are', 'we', \"'re\", 'still', 'told', 'that', 'we', \"'re\", 'not', 'and', 'when', 'we', 'marry', 'our', 'own', 'people', 'we', \"'re\", 'called', 'racist', 'and', 'we', 'do', \"n't\", 'we', \"'re\", 'contaminating', 'someone', 'else', \"'s\", '``', 'race', \"''\", 'and', 'because', 'we', \"'re\", 'under', 'fire', 'from', 'the', 'Left', 'and', 'from', 'the', 'Right', 'and', 'because', 'there', 'are', 'whites', 'who', 'hate', 'us', 'for', 'not', 'being', 'white', 'and', 'because', 'there', 'are', 'non-whites', 'who', 'hate', 'us', 'for', 'being', 'white', 'and', 'because', 'anti-semitic', 'incidents', 'are', 'rising', 'every', 'year', 'but', 'we', \"'re\", 'told', 'that', 'anti-semitism', 'does', \"n't\", 'exist', 'or', 'that', 'we', \"'re\", 'paranoid', 'and', 'because', 'we', \"'re\", 'told', 'to', 'shut', 'up', 'about', 'the', 'Holocaust', 'and', 'yet', 'Holocaust', 'revisionism', 'is', 'risng', 'every', 'year', 'and', 'when', 'we', 'are', \"''\", 'obnoxious', \"''\", 'we', \"'re\", 'called', 'JAPs', 'and', 'when', 'we', 'are', '``', 'nice', \"''\", 'we', \"'re\", 'told', 'we', 'do', \"n't\", 'act', 'Jewish', 'and', 'because', 'anti-semitism', 'is', 'now', 'world-wide', 'and', 'because', 'our', 'people', 'is', 'not', 'yet', 'free', 'and', 'because', 'we', 'do', 'not', 'have', 'to', 'complete', 'the', 'work', 'but', 'neither', 'are', 'we', 'free', 'to', 'desist', 'from', 'it', 'for', 'these', 'reasons', 'and', 'many', 'many', 'more', 'we', 'are', 'part', 'of', 'the', 'Jewish', 'National', 'Liberation', 'Movement', ':', 'ZIONISM', '.'], 'talk.politics.mideast')]\n"
     ]
    }
   ],
   "source": [
    "import random\n",
    "random.shuffle(dic)\n",
    "print(dic[0:5])"
   ]
  },
  {
   "cell_type": "code",
   "execution_count": null,
   "metadata": {
    "colab": {},
    "colab_type": "code",
    "id": "c-imvznHL8_8"
   },
   "outputs": [],
   "source": [
    "import json\n",
    "fopen = open(\"dictionary_docs.json\",'w+')\n",
    "json.dump(dic,fopen)"
   ]
  },
  {
   "cell_type": "markdown",
   "metadata": {
    "colab_type": "text",
    "id": "8ftYLrABenCi"
   },
   "source": [
    "### Now performing the cleaning"
   ]
  },
  {
   "cell_type": "code",
   "execution_count": null,
   "metadata": {
    "colab": {},
    "colab_type": "code",
    "id": "PAzLiAo-jR53"
   },
   "outputs": [],
   "source": [
    "from nltk.stem import WordNetLemmatizer\n",
    "from nltk.corpus import wordnet,stopwords\n",
    "from nltk import pos_tag\n",
    "import string"
   ]
  },
  {
   "cell_type": "code",
   "execution_count": 15,
   "metadata": {
    "colab": {
     "base_uri": "https://localhost:8080/",
     "height": 170
    },
    "colab_type": "code",
    "id": "Jz9NOGipM_x1",
    "outputId": "65ac0df2-11f0-4915-f994-c28f72617545"
   },
   "outputs": [
    {
     "name": "stdout",
     "output_type": "stream",
     "text": [
      "[nltk_data] Downloading package stopwords to /root/nltk_data...\n",
      "[nltk_data]   Package stopwords is already up-to-date!\n",
      "[nltk_data] Downloading package averaged_perceptron_tagger to\n",
      "[nltk_data]     /root/nltk_data...\n",
      "[nltk_data]   Package averaged_perceptron_tagger is already up-to-\n",
      "[nltk_data]       date!\n",
      "[nltk_data] Downloading package wordnet to /root/nltk_data...\n",
      "[nltk_data]   Package wordnet is already up-to-date!\n"
     ]
    },
    {
     "data": {
      "text/plain": [
       "True"
      ]
     },
     "execution_count": 15,
     "metadata": {
      "tags": []
     },
     "output_type": "execute_result"
    }
   ],
   "source": [
    "import nltk\n",
    "nltk.download('stopwords')\n",
    "nltk.download('averaged_perceptron_tagger')\n",
    "nltk.download('wordnet')"
   ]
  },
  {
   "cell_type": "code",
   "execution_count": null,
   "metadata": {
    "colab": {},
    "colab_type": "code",
    "id": "mWAzK5cmmACA"
   },
   "outputs": [],
   "source": [
    "stop_words = set(stopwords.words('english'))\n",
    "punctuation = string.punctuation\n",
    "stop_words.update(list(punctuation))\n",
    "lemmatizer = WordNetLemmatizer()"
   ]
  },
  {
   "cell_type": "code",
   "execution_count": null,
   "metadata": {
    "colab": {},
    "colab_type": "code",
    "id": "MQNTPwLZiMNw"
   },
   "outputs": [],
   "source": [
    "def getsimplepos(tag):\n",
    "  if tag.startswith('J'):\n",
    "    return wordnet.ADJ\n",
    "  elif tag.startswith('V'):\n",
    "    return wordnet.VERB\n",
    "  elif tag.startswith('R'):\n",
    "    return wordnet.ADV\n",
    "  else:\n",
    "    return wordnet.NOUN"
   ]
  },
  {
   "cell_type": "code",
   "execution_count": null,
   "metadata": {
    "colab": {},
    "colab_type": "code",
    "id": "yRqUO_iMjDsR"
   },
   "outputs": [],
   "source": [
    "def cleaning(words):\n",
    "  output_words = []\n",
    "  for w in words :\n",
    "    if w.lower() not in stop_words :\n",
    "      #applying lemmatization\n",
    "      pos = pos_tag([w])\n",
    "      cleanword = lemmatizer.lemmatize(w , pos = getsimplepos(pos[0][1]))\n",
    "      output_words.append(cleanword.lower())\n",
    "  return output_words"
   ]
  },
  {
   "cell_type": "code",
   "execution_count": 19,
   "metadata": {
    "colab": {
     "base_uri": "https://localhost:8080/",
     "height": 34
    },
    "colab_type": "code",
    "id": "y7r70Q6anabD",
    "outputId": "ec7468dd-a88c-41fb-e3fc-06a97bf43553"
   },
   "outputs": [
    {
     "data": {
      "text/plain": [
       "'comp.graphics'"
      ]
     },
     "execution_count": 19,
     "metadata": {
      "tags": []
     },
     "output_type": "execute_result"
    }
   ],
   "source": [
    "dic = [(cleaning(doc),cat) for doc,cat in dic]\n",
    "dic[0][1]"
   ]
  },
  {
   "cell_type": "code",
   "execution_count": null,
   "metadata": {
    "colab": {},
    "colab_type": "code",
    "id": "sNe7PvESNgHY"
   },
   "outputs": [],
   "source": [
    "with open('Clean_dict_docs.json','w+') as fopen:\n",
    "    json.dump(dic,fopen)"
   ]
  },
  {
   "cell_type": "markdown",
   "metadata": {
    "colab_type": "text",
    "id": "Uo7oBTwaN5yg"
   },
   "source": [
    "### performing the split"
   ]
  },
  {
   "cell_type": "code",
   "execution_count": 20,
   "metadata": {
    "colab": {
     "base_uri": "https://localhost:8080/",
     "height": 34
    },
    "colab_type": "code",
    "id": "zaXCqggMQ5l_",
    "outputId": "559a4659-bbb6-4fa9-fab5-65dce4ac0c87"
   },
   "outputs": [
    {
     "data": {
      "text/plain": [
       "('xref', 'comp.graphics')"
      ]
     },
     "execution_count": 20,
     "metadata": {
      "tags": []
     },
     "output_type": "execute_result"
    }
   ],
   "source": [
    "dic[0][0][0],dic[0][1]"
   ]
  },
  {
   "cell_type": "code",
   "execution_count": 21,
   "metadata": {
    "colab": {
     "base_uri": "https://localhost:8080/",
     "height": 102
    },
    "colab_type": "code",
    "id": "YRRGU08FSS2J",
    "outputId": "2ea118b6-d154-4c30-f9c8-6703e9ab09cc"
   },
   "outputs": [
    {
     "data": {
      "text/plain": [
       "['comp.graphics',\n",
       " 'alt.atheism',\n",
       " 'comp.sys.ibm.pc.hardware',\n",
       " 'soc.religion.christian',\n",
       " 'talk.politics.mideast']"
      ]
     },
     "execution_count": 21,
     "metadata": {
      "tags": []
     },
     "output_type": "execute_result"
    }
   ],
   "source": [
    "Y = [cat for doc,cat in dic]\n",
    "Y[0:5]"
   ]
  },
  {
   "cell_type": "code",
   "execution_count": 22,
   "metadata": {
    "colab": {
     "base_uri": "https://localhost:8080/",
     "height": 54
    },
    "colab_type": "code",
    "id": "EVocl0OdTmcX",
    "outputId": "78e24e47-b321-4fac-9ac4-27551d97d11f"
   },
   "outputs": [
    {
     "data": {
      "text/plain": [
       "'xref cantaloupe.srv.cs.cmu.edu comp.multimedia:6735 comp.graphics:38806 path cantaloupe.srv.cs.cmu.edu magnesium.club.cc.cmu.edu news.sei.cmu.edu fs7.ece.cmu.edu europa.eng.gtefsd.com howland.reston.ans.net ira.uka.de news.dfn.de mailgzrz.tu-berlin.de news.netmbx.de germany.eu.net mcsun sunic sics.se vall matt-dah matt-dah dsv.su.se mattias dahlberg newsgroups comp.multimedia comp.graphics subject psygnosis cd-i title rumours 3do message-id 2978 vall.dsv.su.se date 27 apr 93 08:43:32 gmt references 1857 prlhp1.prl.philips.co.uk sender newsuser vall.dsv.su.se followup-to comp.multimedia comp.graphics organization dept computer systems sciences stockholm university lines 12 x-newsreader tin version 1.1 pl8 mark samson samson prlhp1.prl.philips.co.uk write speaking psygnosis license game philips interative media international cd-i commodore cdtv -- ========================================================= regards email 1280x512x262000+ mattias matt-dah dsv.su.se love ========================================================='"
      ]
     },
     "execution_count": 22,
     "metadata": {
      "tags": []
     },
     "output_type": "execute_result"
    }
   ],
   "source": [
    "X = [\" \".join(doc) for doc,cat in dic]\n",
    "X[0]"
   ]
  },
  {
   "cell_type": "code",
   "execution_count": null,
   "metadata": {
    "colab": {},
    "colab_type": "code",
    "id": "KdzD-Wn6Tz3I"
   },
   "outputs": [],
   "source": [
    "import sklearn.model_selection as ms"
   ]
  },
  {
   "cell_type": "code",
   "execution_count": null,
   "metadata": {
    "colab": {},
    "colab_type": "code",
    "id": "oYmo5Xy-UR_c"
   },
   "outputs": [],
   "source": [
    "xtrain,xtest,ytrain,ytest = ms.train_test_split(X,Y,test_size = 0.10,random_state = 2)"
   ]
  },
  {
   "cell_type": "markdown",
   "metadata": {
    "colab_type": "text",
    "id": "DtoJYmJbUiQZ"
   },
   "source": [
    "### Importing Count Vectorizer from sklearn.feature_extraction.text to apply to the training data"
   ]
  },
  {
   "cell_type": "code",
   "execution_count": null,
   "metadata": {
    "colab": {},
    "colab_type": "code",
    "id": "zI6MQkGpUZlS"
   },
   "outputs": [],
   "source": [
    "from sklearn.feature_extraction.text import CountVectorizer"
   ]
  },
  {
   "cell_type": "code",
   "execution_count": null,
   "metadata": {
    "colab": {},
    "colab_type": "code",
    "id": "EO4SWEPhU2iF"
   },
   "outputs": [],
   "source": [
    "count_vec = CountVectorizer(max_features = 3000)"
   ]
  },
  {
   "cell_type": "code",
   "execution_count": 27,
   "metadata": {
    "colab": {
     "base_uri": "https://localhost:8080/",
     "height": 136
    },
    "colab_type": "code",
    "id": "tn0OnctCVAlG",
    "outputId": "0204a4c7-cf46-43a7-935c-30fe76d5c552"
   },
   "outputs": [
    {
     "data": {
      "text/plain": [
       "matrix([[0, 0, 0, ..., 0, 0, 0],\n",
       "        [1, 0, 0, ..., 0, 0, 0],\n",
       "        [0, 0, 0, ..., 0, 0, 0],\n",
       "        ...,\n",
       "        [0, 0, 0, ..., 0, 0, 0],\n",
       "        [1, 0, 0, ..., 0, 0, 0],\n",
       "        [0, 0, 0, ..., 0, 0, 0]], dtype=int64)"
      ]
     },
     "execution_count": 27,
     "metadata": {
      "tags": []
     },
     "output_type": "execute_result"
    }
   ],
   "source": [
    "x_train_transformed = count_vec.fit_transform(xtrain)\n",
    "x_train_transformed.todense()"
   ]
  },
  {
   "cell_type": "code",
   "execution_count": 28,
   "metadata": {
    "colab": {
     "base_uri": "https://localhost:8080/",
     "height": 136
    },
    "colab_type": "code",
    "id": "nB7AWmRjVPf0",
    "outputId": "c3290378-cc01-4d63-d78b-f0dd11eda5af"
   },
   "outputs": [
    {
     "data": {
      "text/plain": [
       "matrix([[0, 0, 0, ..., 0, 0, 0],\n",
       "        [0, 0, 0, ..., 0, 0, 0],\n",
       "        [0, 0, 0, ..., 0, 0, 0],\n",
       "        ...,\n",
       "        [1, 0, 0, ..., 0, 0, 0],\n",
       "        [0, 0, 0, ..., 0, 0, 0],\n",
       "        [0, 0, 0, ..., 0, 0, 0]])"
      ]
     },
     "execution_count": 28,
     "metadata": {
      "tags": []
     },
     "output_type": "execute_result"
    }
   ],
   "source": [
    "x_test_transform = count_vec.transform(xtest)\n",
    "x_test_transform.todense()"
   ]
  },
  {
   "cell_type": "markdown",
   "metadata": {
    "colab_type": "text",
    "id": "_uMaBQwoWi6D"
   },
   "source": [
    "### Here comes the Classifier"
   ]
  },
  {
   "cell_type": "code",
   "execution_count": null,
   "metadata": {
    "colab": {},
    "colab_type": "code",
    "id": "ZHGaojKsVbF7"
   },
   "outputs": [],
   "source": [
    "from sklearn.naive_bayes import MultinomialNB"
   ]
  },
  {
   "cell_type": "code",
   "execution_count": 30,
   "metadata": {
    "colab": {
     "base_uri": "https://localhost:8080/",
     "height": 34
    },
    "colab_type": "code",
    "id": "NGUOq7HcV01_",
    "outputId": "8454155e-fdd0-4ad0-de69-d5a1cba99f81"
   },
   "outputs": [
    {
     "data": {
      "text/plain": [
       "MultinomialNB(alpha=1.0, class_prior=None, fit_prior=True)"
      ]
     },
     "execution_count": 30,
     "metadata": {
      "tags": []
     },
     "output_type": "execute_result"
    }
   ],
   "source": [
    "clf = MultinomialNB()\n",
    "clf.fit(x_train_transformed,ytrain)"
   ]
  },
  {
   "cell_type": "code",
   "execution_count": 31,
   "metadata": {
    "colab": {
     "base_uri": "https://localhost:8080/",
     "height": 34
    },
    "colab_type": "code",
    "id": "E72sOutRWHCN",
    "outputId": "7398ea62-c2d0-4a6b-8ead-ba24f8d759d6"
   },
   "outputs": [
    {
     "data": {
      "text/plain": [
       "0.8302546180728907"
      ]
     },
     "execution_count": 31,
     "metadata": {
      "tags": []
     },
     "output_type": "execute_result"
    }
   ],
   "source": [
    "clf.score(x_test_transform,ytest)"
   ]
  },
  {
   "cell_type": "code",
   "execution_count": null,
   "metadata": {
    "colab": {},
    "colab_type": "code",
    "id": "M_5h2r-bWmir"
   },
   "outputs": [],
   "source": [
    "from sklearn.metrics import classification_report,confusion_matrix"
   ]
  },
  {
   "cell_type": "code",
   "execution_count": 33,
   "metadata": {
    "colab": {
     "base_uri": "https://localhost:8080/",
     "height": 1156
    },
    "colab_type": "code",
    "id": "lgoYvfa8W3lM",
    "outputId": "36086740-dc61-4d84-cefe-d896be865c80"
   },
   "outputs": [
    {
     "name": "stdout",
     "output_type": "stream",
     "text": [
      "                          precision    recall  f1-score   support\n",
      "\n",
      "             alt.atheism       0.83      0.83      0.83       103\n",
      "           comp.graphics       0.77      0.75      0.76       103\n",
      " comp.os.ms-windows.misc       1.00      0.08      0.15       110\n",
      "comp.sys.ibm.pc.hardware       0.61      0.83      0.70        92\n",
      "   comp.sys.mac.hardware       0.75      0.90      0.82        99\n",
      "          comp.windows.x       0.60      0.86      0.71        87\n",
      "            misc.forsale       0.73      0.93      0.82       103\n",
      "               rec.autos       0.88      0.90      0.89       110\n",
      "         rec.motorcycles       0.92      0.97      0.94       100\n",
      "      rec.sport.baseball       0.97      0.94      0.96       121\n",
      "        rec.sport.hockey       0.94      0.96      0.95        79\n",
      "               sci.crypt       0.96      0.94      0.95        95\n",
      "         sci.electronics       0.87      0.90      0.89        94\n",
      "                 sci.med       0.98      0.88      0.92        91\n",
      "               sci.space       0.92      0.91      0.92       103\n",
      "  soc.religion.christian       0.97      1.00      0.99       111\n",
      "      talk.politics.guns       0.80      0.90      0.84       106\n",
      "   talk.politics.mideast       0.95      0.90      0.92        87\n",
      "      talk.politics.misc       0.75      0.70      0.72       101\n",
      "      talk.religion.misc       0.74      0.62      0.67       108\n",
      "\n",
      "               micro avg       0.83      0.83      0.83      2003\n",
      "               macro avg       0.85      0.83      0.82      2003\n",
      "            weighted avg       0.85      0.83      0.81      2003\n",
      "\n",
      "[[ 85   0   0   0   0   0   0   0   1   0   0   1   0   0   0   1   0   0\n",
      "    0  15]\n",
      " [  0  77   0   6   7   4   6   0   0   0   0   0   1   0   2   0   0   0\n",
      "    0   0]\n",
      " [  0  11   9  32   9  43   4   0   0   0   0   0   1   0   1   0   0   0\n",
      "    0   0]\n",
      " [  0   2   0  76   9   0   3   1   0   0   0   0   1   0   0   0   0   0\n",
      "    0   0]\n",
      " [  0   2   0   5  89   0   2   0   0   0   0   0   1   0   0   0   0   0\n",
      "    0   0]\n",
      " [  0   6   0   4   0  75   0   0   0   0   0   0   0   0   2   0   0   0\n",
      "    0   0]\n",
      " [  0   0   0   2   0   0  96   4   0   0   0   0   1   0   0   0   0   0\n",
      "    0   0]\n",
      " [  0   0   0   0   0   0   5  99   2   0   1   0   2   0   0   0   1   0\n",
      "    0   0]\n",
      " [  0   0   0   0   0   0   2   1  97   0   0   0   0   0   0   0   0   0\n",
      "    0   0]\n",
      " [  0   0   0   0   0   0   0   4   0 114   3   0   0   0   0   0   0   0\n",
      "    0   0]\n",
      " [  0   0   0   0   0   0   1   0   0   2  76   0   0   0   0   0   0   0\n",
      "    0   0]\n",
      " [  0   0   0   0   0   2   1   0   0   0   0  89   2   0   0   0   1   0\n",
      "    0   0]\n",
      " [  0   1   0   0   2   0   2   2   0   0   0   0  85   0   2   0   0   0\n",
      "    0   0]\n",
      " [  0   0   0   0   2   0   3   0   2   0   0   1   2  80   0   0   0   0\n",
      "    1   0]\n",
      " [  0   1   0   0   1   0   2   0   1   1   1   0   2   0  94   0   0   0\n",
      "    0   0]\n",
      " [  0   0   0   0   0   0   0   0   0   0   0   0   0   0   0 111   0   0\n",
      "    0   0]\n",
      " [  0   0   0   0   0   0   2   0   2   0   0   1   0   0   1   0  95   0\n",
      "    4   1]\n",
      " [  0   0   0   0   0   0   1   1   1   0   0   0   0   0   0   0   2  78\n",
      "    3   1]\n",
      " [  0   0   0   0   0   0   1   0   0   0   0   1   0   1   0   0  16   4\n",
      "   71   7]\n",
      " [ 17   0   0   0   0   0   1   0   0   0   0   0   0   1   0   2   4   0\n",
      "   16  67]]\n"
     ]
    }
   ],
   "source": [
    "y_predict = clf.predict(x_test_transform)\n",
    "print(classification_report(ytest,y_predict))\n",
    "print(confusion_matrix(ytest,y_predict))"
   ]
  },
  {
   "cell_type": "markdown",
   "metadata": {
    "colab_type": "text",
    "id": "wlR_9oKIXVs-"
   },
   "source": [
    "### implementing own Multinomial Naive Bayes Classifier"
   ]
  },
  {
   "cell_type": "code",
   "execution_count": null,
   "metadata": {
    "colab": {},
    "colab_type": "code",
    "id": "RSs__N-qnOtl"
   },
   "outputs": [],
   "source": [
    "import numpy as np"
   ]
  },
  {
   "cell_type": "code",
   "execution_count": 35,
   "metadata": {
    "colab": {
     "base_uri": "https://localhost:8080/",
     "height": 34
    },
    "colab_type": "code",
    "id": "a5Y3GB3SmkbP",
    "outputId": "f4096d43-7e74-4324-acca-8a64fc663a35"
   },
   "outputs": [
    {
     "data": {
      "text/plain": [
       "((18024, 3000), (18024,), (2003, 3000), (2003,))"
      ]
     },
     "execution_count": 35,
     "metadata": {
      "tags": []
     },
     "output_type": "execute_result"
    }
   ],
   "source": [
    "X_train = np.array(x_train_transformed.todense())\n",
    "Y_train = np.array(ytrain)\n",
    "X_test = np.array(x_test_transform.todense())\n",
    "Y_test = np.array(ytest)\n",
    "X_train.shape,Y_train.shape,X_test.shape,Y_test.shape"
   ]
  },
  {
   "cell_type": "code",
   "execution_count": 36,
   "metadata": {
    "colab": {
     "base_uri": "https://localhost:8080/",
     "height": 238
    },
    "colab_type": "code",
    "id": "rXj4KA6Kssv_",
    "outputId": "dd8fe04c-822e-4727-b197-003ec4dfb390"
   },
   "outputs": [
    {
     "data": {
      "text/plain": [
       "(array([[0, 0, 0, ..., 0, 0, 0],\n",
       "        [1, 0, 0, ..., 0, 0, 0],\n",
       "        [0, 0, 0, ..., 0, 0, 0],\n",
       "        ...,\n",
       "        [0, 0, 0, ..., 0, 0, 0],\n",
       "        [1, 0, 0, ..., 0, 0, 0],\n",
       "        [0, 0, 0, ..., 0, 0, 0]], dtype=int64), array([[0, 0, 0, ..., 0, 0, 0],\n",
       "        [0, 0, 0, ..., 0, 0, 0],\n",
       "        [0, 0, 0, ..., 0, 0, 0],\n",
       "        ...,\n",
       "        [1, 0, 0, ..., 0, 0, 0],\n",
       "        [0, 0, 0, ..., 0, 0, 0],\n",
       "        [0, 0, 0, ..., 0, 0, 0]]))"
      ]
     },
     "execution_count": 36,
     "metadata": {
      "tags": []
     },
     "output_type": "execute_result"
    }
   ],
   "source": [
    "X_train,X_test"
   ]
  },
  {
   "cell_type": "code",
   "execution_count": null,
   "metadata": {
    "colab": {},
    "colab_type": "code",
    "id": "4GTmtbC_XPA7"
   },
   "outputs": [],
   "source": [
    "def fit(x_train,y_train):\n",
    "  result = {}\n",
    "  class_vals = set(y_train)\n",
    "  result['total_count'] = len(y_train)\n",
    "  \n",
    "  for curclass in class_vals :\n",
    "    result[curclass] = {}\n",
    "    num_features = x_train.shape[-1]\n",
    "    curr_rows_req = (y_train == curclass)\n",
    "    X_train_cur = x_train[curr_rows_req]\n",
    "    Y_train_cur = y_train[curr_rows_req]\n",
    "    result[curclass]['total_count'] = len(Y_train_cur)\n",
    "    \n",
    "    for j in range(num_features):\n",
    "      result[curclass][j] = {}\n",
    "      all_possible_vals = set(x_train[:,j])\n",
    "      for cur_val in all_possible_vals :\n",
    "        result[curclass][j][cur_val] = (cur_val == X_train_cur[:,j]).sum()\n",
    "  return result"
   ]
  },
  {
   "cell_type": "code",
   "execution_count": null,
   "metadata": {
    "colab": {},
    "colab_type": "code",
    "id": "RoeE_5z5vQln"
   },
   "outputs": [],
   "source": [
    "def probability(dictionary,x,curclass):\n",
    "  # P(y = ai)\n",
    "  class_probab = np.log(dictionary[curclass]['total_count']) - np.log(dictionary['total_count'])\n",
    "  output = class_probab\n",
    "  \n",
    "  # P(Xj = xj / y = ai)\n",
    "  num_features = len(dictionary[curclass].keys()) - 1\n",
    "  for j in range(num_features):\n",
    "    xj = x[j]\n",
    "    #print('xj is :',xj)\n",
    "    if xj in dictionary[curclass][j].keys():\n",
    "      count_cur_class_with_val_xj = dictionary[curclass][j][xj] + 1\n",
    "    else:\n",
    "      count_cur_class_with_val_xj = 1\n",
    "    count_cur_class = dictionary[curclass]['total_count'] + len(dictionary[curclass][j].keys())-1\n",
    "    count_x_y_probab = np.log(count_cur_class_with_val_xj) - np.log(count_cur_class)\n",
    "    output = output + count_x_y_probab\n",
    "    \n",
    "  #total output = Multiplication_for_all_j( P(Xj=xj / y=ai) * P(y=ai) )\n",
    "  return output"
   ]
  },
  {
   "cell_type": "code",
   "execution_count": null,
   "metadata": {
    "colab": {},
    "colab_type": "code",
    "id": "F805hKEpuG0b"
   },
   "outputs": [],
   "source": [
    "def predictSinglePoint(dictionary,x):\n",
    "  classes = dictionary.keys()\n",
    "  best_p = -1000\n",
    "  best_class = -1\n",
    "  for curclass in classes:\n",
    "    if curclass != 'total_count':\n",
    "      pcurclass = probability(dictionary,x,curclass)\n",
    "      if pcurclass > best_p:\n",
    "        best_p = pcurclass\n",
    "        best_class = curclass\n",
    "  return best_class"
   ]
  },
  {
   "cell_type": "code",
   "execution_count": null,
   "metadata": {
    "colab": {},
    "colab_type": "code",
    "id": "9Qz9xvH9rmre"
   },
   "outputs": [],
   "source": [
    "def predict(dictionary,x_test):\n",
    "  ypred = []\n",
    "  for x in x_test:\n",
    "    x_class = predictSinglePoint(dictionary,x)\n",
    "    ypred.append(x_class)\n",
    "  return ypred"
   ]
  },
  {
   "cell_type": "code",
   "execution_count": null,
   "metadata": {
    "colab": {},
    "colab_type": "code",
    "id": "Jve1fYwrra5H"
   },
   "outputs": [],
   "source": [
    "dictionary = fit(X_train,Y_train)"
   ]
  },
  {
   "cell_type": "code",
   "execution_count": 42,
   "metadata": {
    "colab": {
     "base_uri": "https://localhost:8080/",
     "height": 34
    },
    "colab_type": "code",
    "id": "KSZfti0MrqZi",
    "outputId": "162376be-d51b-41e8-f6d8-c920440590a2"
   },
   "outputs": [
    {
     "data": {
      "text/plain": [
       "21"
      ]
     },
     "execution_count": 42,
     "metadata": {
      "tags": []
     },
     "output_type": "execute_result"
    }
   ],
   "source": [
    "len(dictionary)"
   ]
  },
  {
   "cell_type": "code",
   "execution_count": 43,
   "metadata": {
    "colab": {
     "base_uri": "https://localhost:8080/",
     "height": 34
    },
    "colab_type": "code",
    "id": "e7oX9peBJW1P",
    "outputId": "0a011cfb-ae9d-46b9-dfb3-18145fab9e77"
   },
   "outputs": [
    {
     "data": {
      "text/plain": [
       "((2003, 3000), numpy.ndarray)"
      ]
     },
     "execution_count": 43,
     "metadata": {
      "tags": []
     },
     "output_type": "execute_result"
    }
   ],
   "source": [
    "X_test.shape,type(X_test)"
   ]
  },
  {
   "cell_type": "code",
   "execution_count": 44,
   "metadata": {
    "colab": {
     "base_uri": "https://localhost:8080/",
     "height": 34
    },
    "colab_type": "code",
    "id": "9lMXgGwetEnm",
    "outputId": "45528ea4-b5d2-44f7-81ac-a75ce4fff83a"
   },
   "outputs": [
    {
     "data": {
      "text/plain": [
       "2003"
      ]
     },
     "execution_count": 44,
     "metadata": {
      "tags": []
     },
     "output_type": "execute_result"
    }
   ],
   "source": [
    "Y_pred = predict(dictionary,X_test)\n",
    "len(Y_pred)"
   ]
  },
  {
   "cell_type": "code",
   "execution_count": 46,
   "metadata": {
    "colab": {
     "base_uri": "https://localhost:8080/",
     "height": 1261
    },
    "colab_type": "code",
    "id": "L7ECdp4VtU0b",
    "outputId": "e5057405-0230-42f5-deb1-dc2bf2044709"
   },
   "outputs": [
    {
     "name": "stdout",
     "output_type": "stream",
     "text": [
      "                          precision    recall  f1-score   support\n",
      "\n",
      "                      -1       0.00      0.00      0.00         0\n",
      "             alt.atheism       0.83      0.79      0.81       103\n",
      "           comp.graphics       0.97      0.88      0.92       103\n",
      " comp.os.ms-windows.misc       0.96      0.97      0.97       110\n",
      "comp.sys.ibm.pc.hardware       0.96      0.93      0.95        92\n",
      "   comp.sys.mac.hardware       0.98      0.96      0.97        99\n",
      "          comp.windows.x       0.98      0.97      0.97        87\n",
      "            misc.forsale       0.80      1.00      0.89       103\n",
      "               rec.autos       0.98      0.95      0.97       110\n",
      "         rec.motorcycles       0.96      0.98      0.97       100\n",
      "      rec.sport.baseball       0.99      0.96      0.97       121\n",
      "        rec.sport.hockey       0.97      0.96      0.97        79\n",
      "               sci.crypt       0.98      0.91      0.94        95\n",
      "         sci.electronics       0.86      0.99      0.92        94\n",
      "                 sci.med       1.00      0.93      0.97        91\n",
      "               sci.space       0.98      0.87      0.92       103\n",
      "  soc.religion.christian       1.00      0.96      0.98       111\n",
      "      talk.politics.guns       0.87      0.87      0.87       106\n",
      "   talk.politics.mideast       0.94      0.78      0.86        87\n",
      "      talk.politics.misc       0.80      0.76      0.78       101\n",
      "      talk.religion.misc       0.74      0.59      0.66       108\n",
      "\n",
      "               micro avg       0.90      0.90      0.90      2003\n",
      "               macro avg       0.88      0.86      0.87      2003\n",
      "            weighted avg       0.93      0.90      0.91      2003\n",
      "\n",
      "[[  0   0   0   0   0   0   0   0   0   0   0   0   0   0   0   0   0   0\n",
      "    0   0   0]\n",
      " [  5  81   0   0   0   0   0   1   0   0   0   0   1   0   0   0   0   0\n",
      "    0   0  15]\n",
      " [  6   0  91   0   1   1   2   0   0   0   0   0   0   0   0   2   0   0\n",
      "    0   0   0]\n",
      " [  2   0   0 107   1   0   0   0   0   0   0   0   0   0   0   0   0   0\n",
      "    0   0   0]\n",
      " [  2   0   1   2  86   1   0   0   0   0   0   0   0   0   0   0   0   0\n",
      "    0   0   0]\n",
      " [  1   0   0   0   2  95   0   1   0   0   0   0   0   0   0   0   0   0\n",
      "    0   0   0]\n",
      " [  2   0   0   1   0   0  84   0   0   0   0   0   0   0   0   0   0   0\n",
      "    0   0   0]\n",
      " [  0   0   0   0   0   0   0 103   0   0   0   0   0   0   0   0   0   0\n",
      "    0   0   0]\n",
      " [  2   0   0   0   0   0   0   2 105   0   0   0   0   1   0   0   0   0\n",
      "    0   0   0]\n",
      " [  0   0   0   0   0   0   0   2   0  98   0   0   0   0   0   0   0   0\n",
      "    0   0   0]\n",
      " [  3   0   0   0   0   0   0   0   0   0 116   2   0   0   0   0   0   0\n",
      "    0   0   0]\n",
      " [  2   0   0   0   0   0   0   0   0   0   1  76   0   0   0   0   0   0\n",
      "    0   0   0]\n",
      " [  3   0   0   1   0   0   0   1   0   0   0   0  86   4   0   0   0   0\n",
      "    0   0   0]\n",
      " [  0   0   0   0   0   0   0   1   0   0   0   0   0  93   0   0   0   0\n",
      "    0   0   0]\n",
      " [  1   0   1   0   0   0   0   2   0   0   0   0   0   2  85   0   0   0\n",
      "    0   0   0]\n",
      " [  3   0   1   0   0   0   0   1   0   0   0   0   0   8   0  90   0   0\n",
      "    0   0   0]\n",
      " [  4   0   0   0   0   0   0   0   0   0   0   0   0   0   0   0 107   0\n",
      "    0   0   0]\n",
      " [  4   0   0   0   0   0   0   3   0   1   0   0   1   0   0   0   0  92\n",
      "    0   3   2]\n",
      " [  7   0   0   0   0   0   0   2   2   3   0   0   0   0   0   0   0   2\n",
      "   68   3   0]\n",
      " [  5   0   0   0   0   0   0   2   0   0   0   0   0   0   0   0   0   7\n",
      "    4  77   6]\n",
      " [  2  17   0   0   0   0   0   7   0   0   0   0   0   0   0   0   0   5\n",
      "    0  13  64]]\n"
     ]
    },
    {
     "name": "stderr",
     "output_type": "stream",
     "text": [
      "/usr/local/lib/python3.6/dist-packages/sklearn/metrics/classification.py:1145: UndefinedMetricWarning: Recall and F-score are ill-defined and being set to 0.0 in labels with no true samples.\n",
      "  'recall', 'true', average, warn_for)\n"
     ]
    }
   ],
   "source": [
    "print(classification_report(Y_test,Y_pred))\n",
    "print(confusion_matrix(Y_test,Y_pred))"
   ]
  },
  {
   "cell_type": "markdown",
   "metadata": {
    "colab_type": "text",
    "id": "cDf2QP2UTAFY"
   },
   "source": [
    "### Now importing the testing documents : mini_news and testing on it"
   ]
  },
  {
   "cell_type": "code",
   "execution_count": 49,
   "metadata": {
    "colab": {
     "base_uri": "https://localhost:8080/",
     "height": 34
    },
    "colab_type": "code",
    "id": "Rhwj7dkOUBDV",
    "outputId": "d4a40afc-d884-4ef9-a505-9246d609971e"
   },
   "outputs": [
    {
     "data": {
      "text/plain": [
       "20"
      ]
     },
     "execution_count": 49,
     "metadata": {
      "tags": []
     },
     "output_type": "execute_result"
    }
   ],
   "source": [
    "path_mini = path + '/mini_newsgroups'\n",
    "categories = os.listdir(path_mini)\n",
    "len(categories)"
   ]
  },
  {
   "cell_type": "code",
   "execution_count": 52,
   "metadata": {
    "colab": {
     "base_uri": "https://localhost:8080/",
     "height": 2040
    },
    "colab_type": "code",
    "id": "Js6oQtL8Uymd",
    "outputId": "c7aef0c1-ca5f-49c9-df83-1cb851fa1460"
   },
   "outputs": [
    {
     "data": {
      "text/plain": [
       "(['Path',\n",
       "  ':',\n",
       "  'cantaloupe.srv.cs.cmu.edu',\n",
       "  '!',\n",
       "  'crabapple.srv.cs.cmu.edu',\n",
       "  '!',\n",
       "  'fs7.ece.cmu.edu',\n",
       "  '!',\n",
       "  'europa.eng.gtefsd.com',\n",
       "  '!',\n",
       "  'news.ans.net',\n",
       "  '!',\n",
       "  'cmcl2',\n",
       "  '!',\n",
       "  'arizona',\n",
       "  '!',\n",
       "  'ho',\n",
       "  'From',\n",
       "  ':',\n",
       "  'ho',\n",
       "  '@',\n",
       "  'cs.arizona.edu',\n",
       "  '(',\n",
       "  'Hilarie',\n",
       "  'Orman',\n",
       "  ')',\n",
       "  'Newsgroups',\n",
       "  ':',\n",
       "  'sci.crypt',\n",
       "  'Subject',\n",
       "  ':',\n",
       "  'Re',\n",
       "  ':',\n",
       "  'Licensing',\n",
       "  'of',\n",
       "  'public',\n",
       "  'key',\n",
       "  'implementations',\n",
       "  'Message-ID',\n",
       "  ':',\n",
       "  '<',\n",
       "  '36179',\n",
       "  '@',\n",
       "  'optima.cs.arizona.edu',\n",
       "  '>',\n",
       "  'Date',\n",
       "  ':',\n",
       "  '6',\n",
       "  'Apr',\n",
       "  '93',\n",
       "  '00:12:20',\n",
       "  'GMT',\n",
       "  'References',\n",
       "  ':',\n",
       "  '<',\n",
       "  '930403152101.890833',\n",
       "  '@',\n",
       "  'DOCKMASTER.NCSC.MIL',\n",
       "  '>',\n",
       "  'Sender',\n",
       "  ':',\n",
       "  'news',\n",
       "  '@',\n",
       "  'cs.arizona.edu',\n",
       "  'Organization',\n",
       "  ':',\n",
       "  'U',\n",
       "  'of',\n",
       "  'Arizona',\n",
       "  ',',\n",
       "  'CS',\n",
       "  'Dept',\n",
       "  ',',\n",
       "  'Tucson',\n",
       "  'Lines',\n",
       "  ':',\n",
       "  '6',\n",
       "  'With',\n",
       "  'regard',\n",
       "  'to',\n",
       "  'your',\n",
       "  'speculations',\n",
       "  'on',\n",
       "  'NSA',\n",
       "  'involvement',\n",
       "  'in',\n",
       "  'the',\n",
       "  'creation',\n",
       "  'of',\n",
       "  'PKP',\n",
       "  ',',\n",
       "  'I',\n",
       "  'find',\n",
       "  'that',\n",
       "  'it',\n",
       "  'fails',\n",
       "  'the',\n",
       "  'test',\n",
       "  'of',\n",
       "  'Occam',\n",
       "  \"'s\",\n",
       "  'butcher',\n",
       "  'knife',\n",
       "  '.',\n",
       "  'Never',\n",
       "  'attribute',\n",
       "  'to',\n",
       "  'conspiracy',\n",
       "  'what',\n",
       "  'can',\n",
       "  'be',\n",
       "  'explained',\n",
       "  'by',\n",
       "  'forthright',\n",
       "  'greed',\n",
       "  '.',\n",
       "  'Hilarie',\n",
       "  'Orman'],\n",
       " 'sci.crypt')"
      ]
     },
     "execution_count": 52,
     "metadata": {
      "tags": []
     },
     "output_type": "execute_result"
    }
   ],
   "source": [
    "test_dic = []\n",
    "for cat in categories :\n",
    "  files_path = path_mini + '/' + cat\n",
    "  files = os.listdir(files_path)\n",
    "  for fileid in files:\n",
    "    fd = open(files_path + '/' + fileid,'r',encoding=\"ISO-8859-1\")\n",
    "    file_words = tokenize.word_tokenize(fd.read())\n",
    "    test_dic.append((file_words,cat))\n",
    "test_dic[0]"
   ]
  },
  {
   "cell_type": "code",
   "execution_count": 53,
   "metadata": {
    "colab": {
     "base_uri": "https://localhost:8080/",
     "height": 34
    },
    "colab_type": "code",
    "id": "9S8CXG8DVS9q",
    "outputId": "60f926dd-1ba6-41e0-d46a-dbb5dbe5b669"
   },
   "outputs": [
    {
     "data": {
      "text/plain": [
       "'sci.crypt'"
      ]
     },
     "execution_count": 53,
     "metadata": {
      "tags": []
     },
     "output_type": "execute_result"
    }
   ],
   "source": [
    "test_dic = [(cleaning(doc),cat) for doc,cat in test_dic]\n",
    "test_dic[0][1]"
   ]
  },
  {
   "cell_type": "code",
   "execution_count": null,
   "metadata": {
    "colab": {},
    "colab_type": "code",
    "id": "rzf07lp1VoLy"
   },
   "outputs": [],
   "source": [
    "Y_test_mini = [cat for doc,cat in test_dic]\n",
    "X_test_mini = [\" \".join(doc) for doc,cat in test_dic]"
   ]
  },
  {
   "cell_type": "code",
   "execution_count": null,
   "metadata": {
    "colab": {},
    "colab_type": "code",
    "id": "kSzhXC0fV_sj"
   },
   "outputs": [],
   "source": [
    "X_test_mini_transformed = count_vec.transform(X_test_mini)\n",
    "x_test_to_fed = np.array(X_test_mini_transformed.todense())"
   ]
  },
  {
   "cell_type": "code",
   "execution_count": 60,
   "metadata": {
    "colab": {
     "base_uri": "https://localhost:8080/",
     "height": 34
    },
    "colab_type": "code",
    "id": "pdcqe7_IWeXS",
    "outputId": "f69c73c3-a3fb-49c3-fc8f-c15dc67945a1"
   },
   "outputs": [
    {
     "data": {
      "text/plain": [
       "2000"
      ]
     },
     "execution_count": 60,
     "metadata": {
      "tags": []
     },
     "output_type": "execute_result"
    }
   ],
   "source": [
    "Y_pred_mini = predict(dictionary,x_test_to_fed)\n",
    "len(Y_pred_mini)"
   ]
  },
  {
   "cell_type": "code",
   "execution_count": 61,
   "metadata": {
    "colab": {
     "base_uri": "https://localhost:8080/",
     "height": 1261
    },
    "colab_type": "code",
    "id": "mUyqp05GWwhF",
    "outputId": "24ab3f3c-394e-4425-fa85-e5d1f7d24e5f"
   },
   "outputs": [
    {
     "name": "stdout",
     "output_type": "stream",
     "text": [
      "                          precision    recall  f1-score   support\n",
      "\n",
      "                      -1       0.00      0.00      0.00         0\n",
      "             alt.atheism       0.85      0.87      0.86       100\n",
      "           comp.graphics       0.93      0.93      0.93       100\n",
      " comp.os.ms-windows.misc       0.99      0.99      0.99       100\n",
      "comp.sys.ibm.pc.hardware       1.00      0.97      0.98       100\n",
      "   comp.sys.mac.hardware       1.00      0.96      0.98       100\n",
      "          comp.windows.x       0.97      0.98      0.98       100\n",
      "            misc.forsale       0.85      0.99      0.91       100\n",
      "               rec.autos       0.99      0.96      0.97       100\n",
      "         rec.motorcycles       0.98      1.00      0.99       100\n",
      "      rec.sport.baseball       1.00      0.98      0.99       100\n",
      "        rec.sport.hockey       0.99      1.00      1.00       100\n",
      "               sci.crypt       1.00      0.90      0.95       100\n",
      "         sci.electronics       0.92      0.98      0.95       100\n",
      "                 sci.med       1.00      0.92      0.96       100\n",
      "               sci.space       1.00      0.94      0.97       100\n",
      "  soc.religion.christian       1.00      0.91      0.95       100\n",
      "      talk.politics.guns       0.92      0.89      0.90       100\n",
      "   talk.politics.mideast       0.98      0.85      0.91       100\n",
      "      talk.politics.misc       0.90      0.74      0.81       100\n",
      "      talk.religion.misc       0.77      0.72      0.75       100\n",
      "\n",
      "               micro avg       0.92      0.92      0.92      2000\n",
      "               macro avg       0.91      0.88      0.89      2000\n",
      "            weighted avg       0.95      0.92      0.94      2000\n",
      "\n",
      "[[  0   0   0   0   0   0   0   0   0   0   0   0   0   0   0   0   0   0\n",
      "    0   0   0]\n",
      " [  2  87   1   0   0   0   0   0   0   0   0   0   0   0   0   0   0   0\n",
      "    0   0  10]\n",
      " [  5   0  93   0   0   0   2   0   0   0   0   0   0   0   0   0   0   0\n",
      "    0   0   0]\n",
      " [  1   0   0  99   0   0   0   0   0   0   0   0   0   0   0   0   0   0\n",
      "    0   0   0]\n",
      " [  1   0   1   1  97   0   0   0   0   0   0   0   0   0   0   0   0   0\n",
      "    0   0   0]\n",
      " [  2   0   0   0   0  96   0   1   0   0   0   0   0   0   0   0   0   0\n",
      "    0   1   0]\n",
      " [  2   0   0   0   0   0  98   0   0   0   0   0   0   0   0   0   0   0\n",
      "    0   0   0]\n",
      " [  0   0   0   0   0   0   0  99   0   0   0   0   0   1   0   0   0   0\n",
      "    0   0   0]\n",
      " [  1   0   0   0   0   0   0   2  96   0   0   0   0   1   0   0   0   0\n",
      "    0   0   0]\n",
      " [  0   0   0   0   0   0   0   0   0 100   0   0   0   0   0   0   0   0\n",
      "    0   0   0]\n",
      " [  1   0   0   0   0   0   0   0   0   0  98   1   0   0   0   0   0   0\n",
      "    0   0   0]\n",
      " [  0   0   0   0   0   0   0   0   0   0   0 100   0   0   0   0   0   0\n",
      "    0   0   0]\n",
      " [  4   0   1   0   0   0   0   1   0   0   0   0  90   4   0   0   0   0\n",
      "    0   0   0]\n",
      " [  1   0   1   0   0   0   0   0   0   0   0   0   0  98   0   0   0   0\n",
      "    0   0   0]\n",
      " [  6   0   1   0   0   0   0   0   0   0   0   0   0   1  92   0   0   0\n",
      "    0   0   0]\n",
      " [  4   0   0   0   0   0   1   1   0   0   0   0   0   0   0  94   0   0\n",
      "    0   0   0]\n",
      " [  8   0   1   0   0   0   0   0   0   0   0   0   0   0   0   0  91   0\n",
      "    0   0   0]\n",
      " [  6   0   0   0   0   0   0   2   0   1   0   0   0   0   0   0   0  89\n",
      "    0   0   2]\n",
      " [  4   0   1   0   0   0   0   5   1   1   0   0   0   1   0   0   0   0\n",
      "   85   2   0]\n",
      " [  6   0   0   0   0   0   0   3   0   0   0   0   0   0   0   0   0   6\n",
      "    2  74   9]\n",
      " [  3  15   0   0   0   0   0   3   0   0   0   0   0   0   0   0   0   2\n",
      "    0   5  72]]\n"
     ]
    },
    {
     "name": "stderr",
     "output_type": "stream",
     "text": [
      "/usr/local/lib/python3.6/dist-packages/sklearn/metrics/classification.py:1145: UndefinedMetricWarning: Recall and F-score are ill-defined and being set to 0.0 in labels with no true samples.\n",
      "  'recall', 'true', average, warn_for)\n"
     ]
    }
   ],
   "source": [
    "print(classification_report(Y_test_mini,Y_pred_mini))\n",
    "print(confusion_matrix(Y_test_mini,Y_pred_mini))"
   ]
  },
  {
   "cell_type": "code",
   "execution_count": 62,
   "metadata": {
    "colab": {
     "base_uri": "https://localhost:8080/",
     "height": 34
    },
    "colab_type": "code",
    "id": "VLA6NgjikPYL",
    "outputId": "66b974eb-5193-4883-c682-3db7bfafbe09"
   },
   "outputs": [
    {
     "data": {
      "text/plain": [
       "0.8525"
      ]
     },
     "execution_count": 62,
     "metadata": {
      "tags": []
     },
     "output_type": "execute_result"
    }
   ],
   "source": [
    "clf.score(x_test_to_fed,Y_pred_mini)"
   ]
  }
 ],
 "metadata": {
  "accelerator": "GPU",
  "colab": {
   "collapsed_sections": [],
   "name": "ProjectTextClassification.ipynb",
   "provenance": [],
   "version": "0.3.2"
  },
  "kernelspec": {
   "display_name": "Python 3",
   "language": "python",
   "name": "python3"
  },
  "language_info": {
   "codemirror_mode": {
    "name": "ipython",
    "version": 3
   },
   "file_extension": ".py",
   "mimetype": "text/x-python",
   "name": "python",
   "nbconvert_exporter": "python",
   "pygments_lexer": "ipython3",
   "version": "3.6.7"
  }
 },
 "nbformat": 4,
 "nbformat_minor": 2
}
