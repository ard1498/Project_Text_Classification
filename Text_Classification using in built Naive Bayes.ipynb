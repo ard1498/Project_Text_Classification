{
 "cells": [
  {
   "cell_type": "markdown",
   "metadata": {},
   "source": [
    "# Text Classification using inbuilt naive bayes"
   ]
  },
  {
   "cell_type": "markdown",
   "metadata": {},
   "source": [
    "#### 20newsgroups_ = training data\n",
    "#### mininewsgroups_ = testing data"
   ]
  },
  {
   "cell_type": "code",
   "execution_count": 28,
   "metadata": {},
   "outputs": [],
   "source": [
    "import os\n",
    "import matplotlib.pyplot as plt\n",
    "import re\n",
    "import sklearn.model_selection as ms"
   ]
  },
  {
   "cell_type": "code",
   "execution_count": 10,
   "metadata": {},
   "outputs": [],
   "source": [
    "X = []\n",
    "Y = []\n",
    "dic_unique_words = {}"
   ]
  },
  {
   "cell_type": "code",
   "execution_count": 34,
   "metadata": {
    "scrolled": false
   },
   "outputs": [],
   "source": [
    "path = 'C:\\\\Users\\\\ANIRUDH\\\\AnacondaProjects\\\\Project text classification\\\\20_newsgroups\\\\';\n",
    "for type_doc in os.listdir(path):\n",
    "    genre = type_doc\n",
    "    new_path = path + type_doc + \"\\\\\"\n",
    "    file_names = os.listdir(new_path)\n",
    "    for f_n in file_names :\n",
    "        path_to_file = new_path + f_n\n",
    "        fd = open(path_to_file,'r')\n",
    "        filecontent = fd.read()\n",
    "        #print(type(filecontent))\n",
    "        X.append((f_n,filecontent))\n",
    "        Y.append(genre)"
   ]
  },
  {
   "cell_type": "code",
   "execution_count": 27,
   "metadata": {},
   "outputs": [
    {
     "data": {
      "text/plain": [
       "(19997, 2, '49960', 12425, 19997, 'alt.atheism')"
      ]
     },
     "execution_count": 27,
     "metadata": {},
     "output_type": "execute_result"
    }
   ],
   "source": [
    "len(X),len(X[0]),(X[0][0]),len(X[0][1]),len(Y),(Y[0])"
   ]
  },
  {
   "cell_type": "code",
   "execution_count": 32,
   "metadata": {},
   "outputs": [
    {
     "data": {
      "text/plain": [
       "(15997, 4000, 15997, 4000)"
      ]
     },
     "execution_count": 32,
     "metadata": {},
     "output_type": "execute_result"
    }
   ],
   "source": [
    "xtrain,xtest,ytrain,ytest = ms.train_test_split(X,Y,random_state = 2 , test_size = 0.20)\n",
    "len(xtrain),len(xtest),len(ytrain),len(ytest)"
   ]
  },
  {
   "cell_type": "code",
   "execution_count": 1,
   "metadata": {},
   "outputs": [],
   "source": [
    "from nltk import tokenize"
   ]
  },
  {
   "cell_type": "code",
   "execution_count": 8,
   "metadata": {},
   "outputs": [
    {
     "data": {
      "text/plain": [
       "['0Xff', '0x34', ',', '.', '/', ';', ';', ';', ':', '/', 'eind', 'ence']"
      ]
     },
     "execution_count": 8,
     "metadata": {},
     "output_type": "execute_result"
    }
   ],
   "source": [
    "sample_txt = '0Xff 0x34 , . / ;    ; ; :/ eind ence'\n",
    "tokenize.word_tokenize(sample_txt)"
   ]
  }
 ],
 "metadata": {
  "kernelspec": {
   "display_name": "Python 3",
   "language": "python",
   "name": "python3"
  },
  "language_info": {
   "codemirror_mode": {
    "name": "ipython",
    "version": 3
   },
   "file_extension": ".py",
   "mimetype": "text/x-python",
   "name": "python",
   "nbconvert_exporter": "python",
   "pygments_lexer": "ipython3",
   "version": "3.6.7"
  }
 },
 "nbformat": 4,
 "nbformat_minor": 2
}
